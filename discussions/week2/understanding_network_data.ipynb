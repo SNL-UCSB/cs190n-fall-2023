{
 "cells": [
  {
   "cell_type": "markdown",
   "id": "2b7368a2",
   "metadata": {},
   "source": [
    "# Understanding Network Data\n",
    "\n",
    "**Objective:** In this discussion section, we will discuss the different types of protocols we will observe at each layer within a packet. We will understand how to process and work with this data programatically.\n"
   ]
  },
  {
   "cell_type": "markdown",
   "id": "d0b0a165",
   "metadata": {},
   "source": [
    "## 5-Layer Network Model\n",
    "![](images/network_layers.png?raw=true)"
   ]
  },
  {
   "cell_type": "markdown",
   "id": "73ba7c25",
   "metadata": {},
   "source": [
    "## The Hourglass (\"Thin-Waist\") Model in IP Networking\n",
    "\n",
    "The **\"thin-waist\"** or **\"hourglass\" model** is a powerful analogy used to conceptualize the architecture of the Internet Protocol (IP) networking stack. This model highlights how a broad range of applications and technologies converge on a narrow, unified middle layer (the \"waist\" of the hourglass) to ensure interoperability and scalability.\n",
    "\n",
    "![](images/hourglass_model.png?raw=true)\n",
    "\n",
    "### Structure of the Hourglass Model\n",
    "- **Applications (Top-most Layer):**\n",
    "    - Represents the Application Layer where there's a vast variety of applications such as web browsers, email clients, messaging apps, and more.\n",
    "    - Each application might use the Internet differently, but all depend on the layers below.\n",
    "- **Transport (Top Layer):**\n",
    "    - Just above the \"thin waist\" of the Internet Layer, lies the Transport Layer. This layer is integral to enabling end-to-end communication and carries responsibilities like:\n",
    "        - Segmentation and Reassembly: Breaking down large messages and reassembling them at the destination.\n",
    "        - Error Control: Ensuring reliable data transmission (e.g., TCP retransmits lost packets).\n",
    "        - Flow Control: Managing data transmission rates suitable for the receiver.\n",
    "        - Connection Management: Handling the setup, maintenance, and termination of connections in protocols like TCP.\n",
    "        - Port Numbers: Allowing multiple services on a device to simultaneously use the network.\n",
    "    - The Transport Layer ensures this data reaches the right destination in the desired form.\n",
    "- **IP (Middle Layer):**\n",
    "    - This is the crux of the hourglass: the Internet Layer, specifically IP (Internet Protocol).\n",
    "    - It acts as a universal glue that binds all parts of the Internet together, irrespective of the application above or the technology below.\n",
    "    - The benefits of this design include:\n",
    "        - Interoperability: Ensuring communication across devices and networks from different vendors and technologies.\n",
    "        - Flexibility: Facilitating the introduction of new technologies without disrupting the IP layer.\n",
    "        - Innovation: Allowing the creation of new applications or network tech without redesigning the Internet's core.\n",
    "- **Link (Bottom Layer):**\n",
    "    - Represents technologies that transmit IP packets: Ethernet, Wi-Fi, cellular networks, satellite links, fiber optics, and more.\n",
    "    - These technologies may vary in operation but all serve to transport IP packets from one device to another.\n",
    "\n",
    "This unified overview of the hourglass model along with the Transport Layer's role provides a comprehensive insight into the Internet protocol stack's modular design."
   ]
  },
  {
   "cell_type": "code",
   "execution_count": null,
   "id": "c22c1d4b",
   "metadata": {},
   "outputs": [],
   "source": [
    "# Imports\n",
    "from scapy.all import *        # Packet manipulation\n",
    "import pandas as pd            # Pandas - Create and Manipulate DataFrames\n",
    "import numpy as np             # Math Stuff (don't worry only used for one line :] )\n",
    "import binascii                # Binary to Ascii \n",
    "import seaborn as sns          # Graphing Library\n",
    "sns.set(color_codes=True)\n",
    "%matplotlib inline"
   ]
  },
  {
   "cell_type": "markdown",
   "id": "58409335",
   "metadata": {},
   "source": [
    "## Reading in a PCAP\n",
    "We can read in packet capture programatically using the `scapy` library. The `rdpcap` function will return an object of time `scapy.plist.PacketList` which represents a list of packet objects that we can iterate over. We can receive a summary of the transport protocols used in this pcap."
   ]
  },
  {
   "cell_type": "code",
   "execution_count": null,
   "id": "f3461b3d",
   "metadata": {},
   "outputs": [],
   "source": [
    "pcap = rdpcap('pcaps/video_call.pcap')"
   ]
  },
  {
   "cell_type": "code",
   "execution_count": null,
   "id": "60c9ada7",
   "metadata": {},
   "outputs": [],
   "source": [
    "print(pcap)"
   ]
  },
  {
   "cell_type": "code",
   "execution_count": null,
   "id": "a322e22b",
   "metadata": {},
   "outputs": [],
   "source": [
    "sample_pkt = pcap[127]"
   ]
  },
  {
   "cell_type": "code",
   "execution_count": null,
   "id": "9d25958f",
   "metadata": {},
   "outputs": [],
   "source": [
    "print(sample_pkt)"
   ]
  },
  {
   "cell_type": "code",
   "execution_count": null,
   "id": "ebf58aa6",
   "metadata": {},
   "outputs": [],
   "source": [
    "sample_pkt.show()"
   ]
  },
  {
   "cell_type": "markdown",
   "id": "9f6d13b6",
   "metadata": {},
   "source": [
    "## Ethernet Layer"
   ]
  },
  {
   "cell_type": "markdown",
   "id": "d9fd4129",
   "metadata": {},
   "source": [
    "### MAC Address\n",
    "A **MAC (Media Access Control)** address is a unique identifier assigned to network interfaces for communications on the physical network segment. It's essentially the \"physical address\" of a device on a local network, and it plays a pivotal role in the data link layer of the OSI model to help route packets of data on a local area network (LAN).\n",
    "\n",
    "#### Key Points:\n",
    "**Uniqueness:** Every network interface card (NIC) manufactured is typically given a unique MAC address, ensuring that every device on a local network can be uniquely identified by its MAC address.\n",
    "\n",
    "**Physical Addressing:** While IP addresses operate at the network layer to route packets over wide networks, MAC addresses function at the data link layer to deliver packets within local networks.\n",
    "\n",
    "**Immutable:** In theory, a MAC address is permanent, burned into the hardware. However, many modern NICs and software interfaces allow for MAC address modification, known as MAC spoofing.\n",
    "\n",
    "**Format:**\n",
    "A MAC address is 48 bits long and is usually represented as six groups of two hexadecimal digits, separated by colons (:) or hyphens (-)."
   ]
  },
  {
   "cell_type": "markdown",
   "id": "eaf75ab6",
   "metadata": {},
   "source": [
    "```\n",
    " 0                   1                   2                   3  \n",
    " 0 1 2 3 4 5 6 7 8 9 0 1 2 3 4 5 6 7 8 9 0 1 2 3 4 5 6 7 8 9 0 1 \n",
    "+-+-+-+-+-+-+-+-+-+-+-+-+-+-+-+-+-+-+-+-+-+-+-+-+-+-+-+-+-+-+-+-+\n",
    "|                                                               |\n",
    "|                     Destination MAC Address                    |\n",
    "|                                                               |\n",
    "+-+-+-+-+-+-+-+-+-+-+-+-+-+-+-+-+-+-+-+-+-+-+-+-+-+-+-+-+-+-+-+-+\n",
    "|                                                               |\n",
    "|                       Source MAC Address                       |\n",
    "|                                                               |\n",
    "+-+-+-+-+-+-+-+-+-+-+-+-+-+-+-+-+-+-+-+-+-+-+-+-+-+-+-+-+-+-+-+-+\n",
    "|           EtherType          |                               |\n",
    "+-+-+-+-+-+-+-+-+-+-+-+-+-+-+-+-+                               +\n",
    "|                                                               |\n",
    "|                           Payload                             |\n",
    "|                                                               |\n",
    "|                                                               |\n",
    "+-+-+-+-+-+-+-+-+-+-+-+-+-+-+-+-+-+-+-+-+-+-+-+-+-+-+-+-+-+-+-+-+\n",
    "|   Frame Check Sequence (FCS)   |\n",
    "+-+-+-+-+-+-+-+-+-+-+-+-+-+-+-+-+\n",
    "\n",
    "```\n",
    "**Destination MAC Address (6 bytes):** This is the MAC address of the destination network interface card (NIC). The data will be read by the device that matches this address.\n",
    "\n",
    "**Source MAC Address (6 bytes):** The MAC address of the NIC that sent the frame.  \n",
    "\n",
    "**EtherType (2 bytes):** This field indicates which protocol is encapsulated in the payload of the frame. For instance, an EtherType value of 0x0800 indicates that the payload is an IPv4 packet.  \n",
    "\n",
    "**Payload (46-1500 bytes):** This contains the encapsulated protocol data, like an IP packet or ARP message. The minimum length is 46 bytes, and the maximum is 1500 bytes. If a smaller message needs to be sent, padding is used to reach the 46-byte minimum.  \n",
    "\n",
    "**Frame Check Sequence (FCS) (4 bytes):** This is a checksum value used to detect errors in the transmitted frame. It's generated by the source NIC and verified by the destination NIC.  \n",
    "\n",
    "This diagram provides a simplified view. Ethernet standards and variations (like VLAN-tagged frames) can introduce additional fields or variations, but the Ethernet II frame format is foundational and widely recognized."
   ]
  },
  {
   "cell_type": "code",
   "execution_count": null,
   "id": "6cf564ba",
   "metadata": {},
   "outputs": [],
   "source": [
    "# Ethernet Layer is the first layer we read\n",
    "ethernet_frame = sample_pkt"
   ]
  },
  {
   "cell_type": "code",
   "execution_count": null,
   "id": "0c221fe6",
   "metadata": {},
   "outputs": [],
   "source": [
    "type(ethernet_frame)"
   ]
  },
  {
   "cell_type": "code",
   "execution_count": null,
   "id": "f66f6f2b",
   "metadata": {},
   "outputs": [],
   "source": [
    "# Timestamp saved for packet on capture device\n",
    "# Epoch time\n",
    "print(ethernet_frame.time)"
   ]
  },
  {
   "cell_type": "code",
   "execution_count": null,
   "id": "0f86868e",
   "metadata": {},
   "outputs": [],
   "source": [
    "print(ethernet_frame.src + \" ==> \" + ethernet_frame.dst) "
   ]
  },
  {
   "cell_type": "markdown",
   "id": "83fa9f55",
   "metadata": {},
   "source": [
    "Vendor Lookup available at: https://maclookup.app/search\n",
    "\n",
    "`e4:c3:2a:92:b6:57` TP-Link Technologies  \n",
    "`f8:4d:89:7b:42:83` Apple  "
   ]
  },
  {
   "cell_type": "markdown",
   "id": "a706274c",
   "metadata": {},
   "source": [
    "## IP Layer"
   ]
  },
  {
   "cell_type": "markdown",
   "id": "577848e4",
   "metadata": {},
   "source": [
    "```\n",
    " 0                   1                   2                   3   \n",
    " 0 1 2 3 4 5 6 7 8 9 0 1 2 3 4 5 6 7 8 9 0 1 2 3 4 5 6 7 8 9 0 1 \n",
    "+-+-+-+-+-+-+-+-+-+-+-+-+-+-+-+-+-+-+-+-+-+-+-+-+-+-+-+-+-+-+-+-+\n",
    "|Version|  IHL  |Type of Service|          Total Length         |\n",
    "+-+-+-+-+-+-+-+-+-+-+-+-+-+-+-+-+-+-+-+-+-+-+-+-+-+-+-+-+-+-+-+-+\n",
    "|         Identification        |Flags|      Fragment Offset    |\n",
    "+-+-+-+-+-+-+-+-+-+-+-+-+-+-+-+-+-+-+-+-+-+-+-+-+-+-+-+-+-+-+-+-+\n",
    "|  Time to Live |    Protocol   |         Header Checksum       |\n",
    "+-+-+-+-+-+-+-+-+-+-+-+-+-+-+-+-+-+-+-+-+-+-+-+-+-+-+-+-+-+-+-+-+\n",
    "|                       Source Address                          |\n",
    "+-+-+-+-+-+-+-+-+-+-+-+-+-+-+-+-+-+-+-+-+-+-+-+-+-+-+-+-+-+-+-+-+\n",
    "|                    Destination Address                        |\n",
    "+-+-+-+-+-+-+-+-+-+-+-+-+-+-+-+-+-+-+-+-+-+-+-+-+-+-+-+-+-+-+-+-+\n",
    "|                    Options                    |    Padding    |\n",
    "+-+-+-+-+-+-+-+-+-+-+-+-+-+-+-+-+-+-+-+-+-+-+-+-+-+-+-+-+-+-+-+-+\n",
    "```\n",
    "**Version (4 bits):** Specifies the version of the IP protocol. For IPv4, this is always set to 4.\n",
    "\n",
    "**IHL (Internet Header Length, 4 bits):** Indicates the header length in 32-bit words. The minimum value for this field is 5, which represents a header length of 20 bytes.\n",
    "\n",
    "**Type of Service (8 bits):** Specifies how the datagram should be handled, such as its priority.\n",
    "\n",
    "**Total Length (16 bits):** Indicates the entire packet size, including header and data, in bytes.\n",
    "\n",
    "**Identification (16 bits):** Helps in assembling the fragments of a datagram.\n",
    "\n",
    "**Flags (3 bits):** Control or identify fragments. There are three flags: Reserved (always zero), Don't Fragment (DF), and More Fragments (MF).\n",
    "\n",
    "**Fragment Offset (13 bits):** Indicates where in the datagram this fragment belongs.\n",
    "\n",
    "**Time to Live (TTL, 8 bits):** Specifies the time limit in seconds or hops for the datagram before it's discarded.\n",
    "\n",
    "**Protocol (8 bits):** Defines the protocol used in the data portion of the IP datagram.\n",
    "\n",
    "**Header Checksum (16 bits):** Used for error-checking the header.\n",
    "\n",
    "**Source Address (32 bits):** The IPv4 address of the source node.\n",
    "\n",
    "**Destination Address (32 bits):** The IPv4 address of the destination node.\n",
    "\n",
    "**Options (variable):** Allows for various options, such as security. Its presence is determined by the IHL field.\n",
    "\n",
    "**Padding (variable):** Ensures the header is a multiple of 32 bits in length. The length of the padding is determined by the IHL field."
   ]
  },
  {
   "cell_type": "code",
   "execution_count": null,
   "id": "5de61e33",
   "metadata": {},
   "outputs": [],
   "source": [
    "# IP Layer is the next layer we read\n",
    "ethernet_frame = sample_pkt"
   ]
  },
  {
   "cell_type": "code",
   "execution_count": null,
   "id": "dd702f61",
   "metadata": {},
   "outputs": [],
   "source": [
    "ip_pkt = ethernet_frame.payload"
   ]
  },
  {
   "cell_type": "code",
   "execution_count": null,
   "id": "3010951d",
   "metadata": {},
   "outputs": [],
   "source": [
    "type(ip_pkt)"
   ]
  },
  {
   "cell_type": "code",
   "execution_count": null,
   "id": "7ded4a22",
   "metadata": {},
   "outputs": [],
   "source": [
    "# Length of the IP payload\n",
    "print(ip_pkt.len)"
   ]
  },
  {
   "cell_type": "code",
   "execution_count": null,
   "id": "a4b069e5",
   "metadata": {},
   "outputs": [],
   "source": [
    "# Incoming packet\n",
    "print(ip_pkt.src + \" ==> \" + ip_pkt.dst) "
   ]
  },
  {
   "cell_type": "markdown",
   "id": "3fff97ed",
   "metadata": {},
   "source": [
    "### Local Subnets"
   ]
  },
  {
   "cell_type": "markdown",
   "id": "6b9de84c",
   "metadata": {},
   "source": [
    "1. **10.0.0.0/8**       (10.0.0.0 - 10.255.255.255)   \n",
    "2. **172.16.0.0/12**    (172.16.0.0 - 172.31.255.255)   \n",
    "3. **192.168.0.0/16**   (192.168.0.0 - 192.168.255.255)"
   ]
  },
  {
   "cell_type": "markdown",
   "id": "b5988ab0",
   "metadata": {},
   "source": [
    "## Transport Layer"
   ]
  },
  {
   "cell_type": "markdown",
   "id": "0418f0ca",
   "metadata": {},
   "source": [
    "### TCP"
   ]
  },
  {
   "cell_type": "markdown",
   "id": "c1e1fc46",
   "metadata": {},
   "source": [
    "```\n",
    "0                   1                   2                   3\n",
    "0 1 2 3 4 5 6 7 8 9 0 1 2 3 4 5 6 7 8 9 0 1 2 3 4 5 6 7 8 9 0 1\n",
    "+-+-+-+-+-+-+-+-+-+-+-+-+-+-+-+-+-+-+-+-+-+-+-+-+-+-+-+-+-+-+-+-+\n",
    "|          Source Port          |       Destination Port        |\n",
    "+-+-+-+-+-+-+-+-+-+-+-+-+-+-+-+-+-+-+-+-+-+-+-+-+-+-+-+-+-+-+-+-+\n",
    "|                        Sequence Number                        |\n",
    "+-+-+-+-+-+-+-+-+-+-+-+-+-+-+-+-+-+-+-+-+-+-+-+-+-+-+-+-+-+-+-+-+\n",
    "|                    Acknowledgment Number                      |\n",
    "+-+-+-+-+-+-+-+-+-+-+-+-+-+-+-+-+-+-+-+-+-+-+-+-+-+-+-+-+-+-+-+-+\n",
    "|  Data |           |U|A|P|R|S|F|                               |\n",
    "| Offset| Reserved  |R|C|S|S|Y|I|            Window             |\n",
    "|       |           |G|K|H|T|N|N|                               |\n",
    "+-+-+-+-+-+-+-+-+-+-+-+-+-+-+-+-+-+-+-+-+-+-+-+-+-+-+-+-+-+-+-+-+\n",
    "|           Checksum            |         Urgent Pointer        |\n",
    "+-+-+-+-+-+-+-+-+-+-+-+-+-+-+-+-+-+-+-+-+-+-+-+-+-+-+-+-+-+-+-+-+\n",
    "|                    Options                    |    Padding    |\n",
    "+-+-+-+-+-+-+-+-+-+-+-+-+-+-+-+-+-+-+-+-+-+-+-+-+-+-+-+-+-+-+-+-+\n",
    "|                             data                              |\n",
    "+-+-+-+-+-+-+-+-+-+-+-+-+-+-+-+-+-+-+-+-+-+-+-+-+-+-+-+-+-+-+-+-+\n",
    "02 04 05 a0 01 03 03 05 01 01 08 0a 1d 74 65 c5 00 00 00 00 04 02 00 00\n",
    "```\n",
    "**Source Port (16 bits):** Specifies the source port number.\n",
    "\n",
    "**Destination Port (16 bits):** Specifies the destination port number.\n",
    "\n",
    "**Sequence Number (32 bits):** If the SYN flag is set, this is the initial sequence number. Otherwise, it's the accumulated sequence number of the first data byte in this segment (with the first byte during the connection setup counting as 1).\n",
    "\n",
    "**Acknowledgment Number (32 bits):** If the ACK flag is set, this field contains the value of the next sequence number the sender of the segment is expecting to receive.\n",
    "\n",
    "**Data Offset (4 bits):** Specifies the size of the TCP header in 32-bit words. Also known as the header length field.\n",
    "\n",
    "**Reserved (3 bits):** Reserved for future use and should be set to zero.\n",
    "\n",
    "**Flags (9 bits):**\n",
    "\n",
    "- URG (1 bit): Urgent pointer field significant.\n",
    "- ACK (1 bit): Acknowledgment field significant.\n",
    "- PSH (1 bit): Push Function.\n",
    "- RST (1 bit): Reset the connection.\n",
    "- SYN (1 bit): Synchronize sequence numbers.\n",
    "- FIN (1 bit): No more data from the sender.\n",
    "\n",
    "**Window (16 bits):** Specifies the size of the sender's receive window (or buffer space) that is available.\n",
    "\n",
    "**Checksum (16 bits):** Used for error-checking of the header and data. It checks whether the data has been transmitted accurately.\n",
    "\n",
    "**Urgent Pointer (16 bits):** If the URG flag is set, then this 16-bit field is an offset from the sequence number indicating the last urgent data byte.\n",
    "\n",
    "**Options (variable):** The length of this field is determined by the data offset field. This field could be zero or more 32-bit words.\n",
    "\n",
    "**Padding (variable):** Ensures the header is a multiple of 32 bits in length. The length of the padding is determined by the data offset field.\n",
    "\n",
    "**Data (variable):** The actual data transmitted by the TCP segment. The length of this field can be determined by the total length minus the data offset value.\n",
    "\n",
    "This header format provides an overview of how TCP segments are structured. Remember, TCP is a connection-oriented protocol, ensuring reliable, ordered, and error-checked delivery of a stream of octets between applications running on hosts in an IP network."
   ]
  },
  {
   "cell_type": "code",
   "execution_count": null,
   "id": "a040eda8",
   "metadata": {},
   "outputs": [],
   "source": [
    "transport_segment = ip_pkt.payload"
   ]
  },
  {
   "cell_type": "code",
   "execution_count": null,
   "id": "c1067325",
   "metadata": {},
   "outputs": [],
   "source": [
    "type(transport_segment)"
   ]
  },
  {
   "cell_type": "code",
   "execution_count": null,
   "id": "e61e1d40",
   "metadata": {},
   "outputs": [],
   "source": [
    "transport_segment.show()"
   ]
  },
  {
   "cell_type": "code",
   "execution_count": null,
   "id": "608f496c",
   "metadata": {},
   "outputs": [],
   "source": [
    "# ACK flag is set\n",
    "print(transport_segment.flags)"
   ]
  },
  {
   "cell_type": "code",
   "execution_count": null,
   "id": "894ddcea",
   "metadata": {},
   "outputs": [],
   "source": [
    "print(transport_segment.seq)"
   ]
  },
  {
   "cell_type": "code",
   "execution_count": null,
   "id": "57c3fbd2",
   "metadata": {},
   "outputs": [],
   "source": [
    "print(transport_segment.ack)"
   ]
  },
  {
   "cell_type": "markdown",
   "id": "44be1be7",
   "metadata": {},
   "source": [
    "### UDP"
   ]
  },
  {
   "cell_type": "markdown",
   "id": "252d20fc",
   "metadata": {},
   "source": [
    "```\n",
    " 0                   1                   2                   3   \n",
    " 0 1 2 3 4 5 6 7 8 9 0 1 2 3 4 5 6 7 8 9 0 1 2 3 4 5 6 7 8 9 0 1 \n",
    "+-+-+-+-+-+-+-+-+-+-+-+-+-+-+-+-+-+-+-+-+-+-+-+-+-+-+-+-+-+-+-+-+\n",
    "|     Source Port (16 bits)     |  Destination Port (16 bits)   |\n",
    "+-+-+-+-+-+-+-+-+-+-+-+-+-+-+-+-+-+-+-+-+-+-+-+-+-+-+-+-+-+-+-+-+\n",
    "|           Length (16 bits)    |       Checksum (16 bits)      |\n",
    "+-+-+-+-+-+-+-+-+-+-+-+-+-+-+-+-+-+-+-+-+-+-+-+-+-+-+-+-+-+-+-+-+\n",
    "|                              data                             |\n",
    "+-+-+-+-+-+-+-+-+-+-+-+-+-+-+-+-+-+-+-+-+-+-+-+-+-+-+-+-+-+-+-+-+\n",
    "\n",
    "```\n",
    "**Source Port (16 bits):** Specifies the port number on the source machine. This is often assigned dynamically by the source machine for outgoing packets (ephemeral port). For well-known services, this field often contains the service's assigned port number.   \n",
    "\n",
    "**Destination Port (16 bits):** Specifies the port number on the destination machine. For well-known services, this field contains the service's assigned port number.   \n",
    "\n",
    "**Length (16 bits):** Specifies the length in bytes of the entire datagram: header and data. The minimum value for this field is 8, which corresponds to the length of the header.   \n",
    "\n",
    "**Checksum (16 bits):** Used for error-checking the header and data. The checksum field provides a means of detecting errors introduced during transmission or reception. The algorithm to compute the checksum is defined in the RFC for UDP.   \n",
    "\n",
    "**Data (variable):** The actual data transmitted by the UDP datagram. Its size can be determined by subtracting the length of the header (8 bytes) from the value in the Length field.   \n",
    "\n",
    "UDP is a connectionless protocol that doesn't guarantee delivery, order, or data integrity, but it's faster and requires fewer resources compared to TCP. It's often used for real-time services like video or voice streaming, where occasional lost packets are acceptable and can be managed at higher layers or by the application itself.\n",
    "\n",
    "\n",
    "\n",
    "\n",
    "\n"
   ]
  },
  {
   "cell_type": "code",
   "execution_count": null,
   "id": "15c08f7c",
   "metadata": {},
   "outputs": [],
   "source": [
    "sample_pkt2 = pcap[68]\n",
    "ip_pkt2 = sample_pkt2.payload\n",
    "transport_segment = ip_pkt2.payload"
   ]
  },
  {
   "cell_type": "code",
   "execution_count": null,
   "id": "e7dd0907",
   "metadata": {},
   "outputs": [],
   "source": [
    "type(transport_segment)"
   ]
  },
  {
   "cell_type": "code",
   "execution_count": null,
   "id": "a940ffab",
   "metadata": {},
   "outputs": [],
   "source": [
    "print(transport_segment.sport)"
   ]
  },
  {
   "cell_type": "code",
   "execution_count": null,
   "id": "0cebc324",
   "metadata": {},
   "outputs": [],
   "source": [
    "print(transport_segment.dport)"
   ]
  },
  {
   "cell_type": "markdown",
   "id": "c9304230",
   "metadata": {},
   "source": [
    "# Convert PCAP to Dataframe"
   ]
  },
  {
   "cell_type": "code",
   "execution_count": null,
   "id": "9b4fddd9",
   "metadata": {},
   "outputs": [],
   "source": [
    "def pcap_to_df(pcap):\n",
    "    # Collect field names from IP/TCP/UDP (These will be columns in DF)\n",
    "    ip_fields = [field.name for field in IP().fields_desc]\n",
    "    tcp_fields = [field.name for field in TCP().fields_desc]\n",
    "    udp_fields = [field.name for field in UDP().fields_desc]\n",
    "\n",
    "    dataframe_fields = ip_fields + ['time'] + [\"tcp_{}\".format(i) for i in tcp_fields] + [\"udp_{}\".format(i) for i in udp_fields] + ['payload','payload_raw','payload_hex']\n",
    "\n",
    "    # Create blank DataFrame\n",
    "    df = pd.DataFrame(columns=dataframe_fields)\n",
    "    for packet in pcap[IP]:\n",
    "        # Field array for each row of DataFrame\n",
    "        field_values = []\n",
    "        # Add all IP fields to dataframe\n",
    "        for field in ip_fields:\n",
    "            if field == 'options':\n",
    "                # Retrieving number of options defined in IP Header\n",
    "                field_values.append(len(packet[IP].fields[field]))\n",
    "            else:\n",
    "                field_values.append(packet[IP].fields[field])\n",
    "\n",
    "        field_values.append(packet.time)\n",
    "\n",
    "        layer_type = type(packet[IP].payload)\n",
    "        for field in tcp_fields:\n",
    "            try:\n",
    "                if field == 'options':\n",
    "                    field_values.append(len(packet[layer_type].fields[field]))\n",
    "                else:\n",
    "                    field_values.append(packet[layer_type].fields[field])\n",
    "            except:\n",
    "                field_values.append(None)\n",
    "\n",
    "        for field in udp_fields:\n",
    "            try:\n",
    "                if field == 'options':\n",
    "                    field_values.append(len(packet[layer_type].fields[field]))\n",
    "                else:\n",
    "                    field_values.append(packet[layer_type].fields[field])\n",
    "            except:\n",
    "                field_values.append(None)\n",
    "\n",
    "        # Append payload\n",
    "        field_values.append(len(packet[layer_type].payload))\n",
    "        field_values.append(packet[layer_type].payload.original)\n",
    "        field_values.append(binascii.hexlify(packet[layer_type].payload.original))\n",
    "        # Add row to DF\n",
    "        df_append = pd.DataFrame([field_values], columns=dataframe_fields)\n",
    "        df = pd.concat([df, df_append], axis=0)\n",
    "\n",
    "    # Reset Index\n",
    "    df = df.reset_index()\n",
    "    # Drop old index column\n",
    "    df = df.drop(columns=\"index\")\n",
    "    return df"
   ]
  },
  {
   "cell_type": "code",
   "execution_count": null,
   "id": "2a229fe4",
   "metadata": {},
   "outputs": [],
   "source": [
    "pandas_df = pcap_to_df(pcap)"
   ]
  },
  {
   "cell_type": "markdown",
   "id": "f62cc4fb",
   "metadata": {},
   "source": [
    "### Dataframe Basics"
   ]
  },
  {
   "cell_type": "code",
   "execution_count": null,
   "id": "6e87c3e8",
   "metadata": {},
   "outputs": [],
   "source": [
    "# Retrieve first row from DataFrame\n",
    "print(pandas_df.iloc[0])"
   ]
  },
  {
   "cell_type": "code",
   "execution_count": null,
   "id": "fa65c071",
   "metadata": {},
   "outputs": [],
   "source": [
    "print(pandas_df.shape)"
   ]
  },
  {
   "cell_type": "code",
   "execution_count": null,
   "id": "d6b7dae3",
   "metadata": {},
   "outputs": [],
   "source": [
    "# Return first 5 rows\n",
    "pandas_df.head()"
   ]
  },
  {
   "cell_type": "code",
   "execution_count": null,
   "id": "8b5c0506",
   "metadata": {},
   "outputs": [],
   "source": [
    "# Return last 5 rows\n",
    "pandas_df.tail()"
   ]
  },
  {
   "cell_type": "code",
   "execution_count": null,
   "id": "f15a1847",
   "metadata": {},
   "outputs": [],
   "source": [
    "# Return the Source Address for all rows\n",
    "pandas_df['src']"
   ]
  },
  {
   "cell_type": "code",
   "execution_count": null,
   "id": "4808c866",
   "metadata": {},
   "outputs": [],
   "source": [
    "# Return Src Address, Dst Address, Src Port, Dst Port\n",
    "pandas_df[['src','dst','tcp_sport','tcp_dport']]"
   ]
  },
  {
   "cell_type": "markdown",
   "id": "e52b1205",
   "metadata": {},
   "source": [
    "# Analyzing Ookla Speedtest\n",
    "\n",
    "**Objective:** In this section we will examine two captures representing single / multi connection speedtests and analyze the difference between the two measurement approaches.\n"
   ]
  },
  {
   "cell_type": "markdown",
   "id": "5dff13b0",
   "metadata": {},
   "source": [
    "### Single Connection"
   ]
  },
  {
   "cell_type": "code",
   "execution_count": null,
   "id": "579bf081",
   "metadata": {},
   "outputs": [],
   "source": [
    "speed_test_single_filename = \"pcaps/speed_test_single_sample10000.pcap\"\n",
    "speed_test_single_pcap = rdpcap(speed_test_single_filename)\n",
    "speed_test_single_df = pcap_to_df(speed_test_single_pcap)"
   ]
  },
  {
   "cell_type": "code",
   "execution_count": null,
   "id": "cd42a3bc",
   "metadata": {},
   "outputs": [],
   "source": [
    "speed_test_single_df[['src','dst','tcp_sport','tcp_dport']]"
   ]
  },
  {
   "cell_type": "markdown",
   "id": "15680e18",
   "metadata": {},
   "source": [
    "### Multi Connection"
   ]
  },
  {
   "cell_type": "code",
   "execution_count": null,
   "id": "12684e60",
   "metadata": {},
   "outputs": [],
   "source": [
    "speed_test_multi_filename = \"pcaps/speed_test_multi_sample10000.pcap\"\n",
    "speed_test_multi_pcap = rdpcap(speed_test_multi_filename)\n",
    "speed_test_multi_df = pcap_to_df(speed_test_multi_pcap)"
   ]
  },
  {
   "cell_type": "code",
   "execution_count": null,
   "id": "302c0193",
   "metadata": {},
   "outputs": [],
   "source": []
  },
  {
   "cell_type": "code",
   "execution_count": null,
   "id": "ee0d4f85",
   "metadata": {},
   "outputs": [],
   "source": []
  },
  {
   "cell_type": "code",
   "execution_count": null,
   "id": "1d310e81",
   "metadata": {},
   "outputs": [],
   "source": []
  },
  {
   "cell_type": "code",
   "execution_count": null,
   "id": "23f39350",
   "metadata": {},
   "outputs": [],
   "source": []
  }
 ],
 "metadata": {
  "kernelspec": {
   "display_name": "Python 3 (ipykernel)",
   "language": "python",
   "name": "python3"
  },
  "language_info": {
   "codemirror_mode": {
    "name": "ipython",
    "version": 3
   },
   "file_extension": ".py",
   "mimetype": "text/x-python",
   "name": "python",
   "nbconvert_exporter": "python",
   "pygments_lexer": "ipython3",
   "version": "3.10.12"
  }
 },
 "nbformat": 4,
 "nbformat_minor": 5
}
