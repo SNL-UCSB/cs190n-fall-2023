{
 "cells": [
  {
   "cell_type": "code",
   "execution_count": 1,
   "id": "a2cfe95b",
   "metadata": {},
   "outputs": [
    {
     "data": {
      "text/html": [
       "<style>.container { width:100% !important; }</style>"
      ],
      "text/plain": [
       "<IPython.core.display.HTML object>"
      ]
     },
     "metadata": {},
     "output_type": "display_data"
    }
   ],
   "source": [
    "from IPython.display import display, HTML\n",
    "display(HTML(\"<style>.container { width:100% !important; }</style>\"))"
   ]
  },
  {
   "cell_type": "code",
   "execution_count": 1,
   "id": "21230c04",
   "metadata": {},
   "outputs": [],
   "source": [
    "import os\n",
    "import time\n",
    "import random\n",
    "import time\n",
    "import requests \n",
    "import re\n",
    "import logging\n",
    "import subprocess\n",
    "from subprocess import Popen\n",
    "from sys import platform\n",
    "import os, sys\n",
    "import logging\n",
    "import json\n",
    "import threading\n",
    "\n",
    "from netunicorn.client.remote import RemoteClient, RemoteClientException\n",
    "from netunicorn.base import Experiment, ExperimentStatus, Pipeline\n",
    "from netunicorn.library.tasks.basic import SleepTask\n",
    "from netunicorn.library.tasks.measurements.ping import Ping\n",
    "from netunicorn.base.architecture import Architecture\n",
    "from netunicorn.base.nodes import Node\n",
    "from netunicorn.base.task import Failure, Task, TaskDispatcher\n",
    "from netunicorn.base import Result, Failure, Success, Task, TaskDispatcher\n",
    "from netunicorn.base.architecture import Architecture\n",
    "from netunicorn.base.nodes import Node\n",
    "\n",
    "from typing import Dict\n",
    "from typing import Optional\n",
    "from enum import IntEnum\n",
    "from datetime import datetime"
   ]
  },
  {
   "cell_type": "markdown",
   "id": "daa716f4",
   "metadata": {},
   "source": [
    "# Discussion Section Week 6\n",
    "In this section we will practice running experiments with netUnicorn.\n",
    "\n",
    "First we will get you setup with your netUnicorn API Credentials. If you submitted a project proposal, you should have received an email containing the credentials for accessing the netunicorn API. Please log on to the server and query the length and amount of available nodes in this deployment."
   ]
  },
  {
   "cell_type": "markdown",
   "id": "4e215061",
   "metadata": {},
   "source": [
    "## NetUnicorn API Credentials"
   ]
  },
  {
   "cell_type": "code",
   "execution_count": 3,
   "id": "e945f456",
   "metadata": {},
   "outputs": [],
   "source": [
    "NETUNICORN_ENDPOINT = os.environ.get('NETUNICORN_ENDPOINT', 'https://pinot.cs.ucsb.edu/netunicorn')\n",
    "NETUNICORN_LOGIN = os.environ.get('NETUNICORN_LOGIN', '')       # substitute your login here\n",
    "NETUNICORN_PASSWORD = os.environ.get('NETUNICORN_PASSWORD', '') # substitue your password here"
   ]
  },
  {
   "cell_type": "markdown",
   "id": "38dd8176",
   "metadata": {},
   "source": [
    "Display the available nodes in the netunicorn deployment. You should nodes of a few different types (aws, raspi, etc.)"
   ]
  },
  {
   "cell_type": "code",
   "execution_count": null,
   "id": "b4b79ec7",
   "metadata": {},
   "outputs": [],
   "source": [
    "client = RemoteClient(endpoint=NETUNICORN_ENDPOINT, login=NETUNICORN_LOGIN, password=NETUNICORN_PASSWORD)\n",
    "print(\"Health Check: {}\".format(client.healthcheck()))\n",
    "nodes = client.get_nodes()\n",
    "print(nodes)\n",
    "print(len(nodes))"
   ]
  },
  {
   "cell_type": "markdown",
   "id": "0b78d7d0",
   "metadata": {},
   "source": [
    "Last week we talked about the SpeedTest Task and how we can run speedtests on nodes and retrieve the results. Similarly, we have the Ping Task that we can use to ping an address. We can also specify the number of ping samples to generate."
   ]
  },
  {
   "cell_type": "code",
   "execution_count": 4,
   "id": "e29a9904",
   "metadata": {},
   "outputs": [],
   "source": [
    "pipeline = Pipeline().then(Ping(address='8.8.8.8', count=5))"
   ]
  },
  {
   "cell_type": "code",
   "execution_count": null,
   "id": "fddc4d03",
   "metadata": {},
   "outputs": [],
   "source": [
    "client = RemoteClient(endpoint=NETUNICORN_ENDPOINT, login=NETUNICORN_LOGIN, password=NETUNICORN_PASSWORD)\n",
    "nodes = client.get_nodes()\n",
    "working_nodes = nodes.filter(lambda node: node.name.startswith(\"raspi\")).take(1)\n",
    "experiment = Experiment().map(pipeline, working_nodes)\n",
    "experiment_label = \"test_ping\"\n",
    "\n",
    "try:\n",
    "    client.delete_experiment(experiment_label)\n",
    "except RemoteClientException:\n",
    "    pass\n",
    "\n",
    "# Prepare Experiment\n",
    "client.prepare_experiment(experiment, experiment_label)\n",
    "while True:\n",
    "    info = client.get_experiment_status(experiment_label)\n",
    "    print(info.status)\n",
    "    if info.status == ExperimentStatus.READY:\n",
    "        break\n",
    "    time.sleep(20)\n",
    "\n",
    "time.sleep(5)\n",
    "\n",
    "# Execute Experiment\n",
    "client.start_execution(experiment_label)\n",
    "while True:\n",
    "    info = client.get_experiment_status(experiment_label)\n",
    "    print(info.status)\n",
    "    if info.status != ExperimentStatus.RUNNING:\n",
    "        break\n",
    "    time.sleep(20)"
   ]
  },
  {
   "cell_type": "code",
   "execution_count": null,
   "id": "0c7af143",
   "metadata": {},
   "outputs": [],
   "source": [
    "# Get Results\n",
    "from returns.pipeline import is_successful\n",
    "from returns.result import Failure\n",
    "\n",
    "for report in info.execution_result:\n",
    "    print(f\"Node name: {report.node.name}\")\n",
    "    print(f\"Error: {report.error}\")\n",
    "\n",
    "    if report.result is None:\n",
    "        print(\"report.result is EMPTY..\")\n",
    "        continue\n",
    "\n",
    "    result, log = report.result  # report stores results of execution and corresponding log\n",
    "\n",
    "    # result is a returns.result.Result object, could be Success of Failure\n",
    "    print(f\"Result is: {type(result)}\")\n",
    "    if is_successful(result):\n",
    "        data = result.unwrap()\n",
    "    else:\n",
    "        data = result.failure()\n",
    "    try:\n",
    "        for key, value in data.items():\n",
    "            print(f\"{key}: {value}\")\n",
    "    except:\n",
    "        print(f\"No attribute 'items' in result\")\n",
    "\n",
    "    # we also can explore logs\n",
    "    for line in log:\n",
    "        print(line.strip())\n",
    "    print()"
   ]
  },
  {
   "cell_type": "markdown",
   "id": "8918d8e9",
   "metadata": {},
   "source": [
    "You can observe that the raw_output, as well as the parsed output in this case, is returned in the results"
   ]
  },
  {
   "cell_type": "markdown",
   "id": "7389dcba",
   "metadata": {},
   "source": [
    "## Traceroute Task\n",
    "For this task you will be implementing a traceroute task, similar to the [ping](https://github.com/netunicorn/netunicorn-library/blob/main/tasks/measurements/ping.py) task."
   ]
  },
  {
   "cell_type": "code",
   "execution_count": null,
   "id": "a6b14853",
   "metadata": {},
   "outputs": [],
   "source": [
    "import subprocess\n",
    "from dataclasses import dataclass\n",
    "from typing import List\n",
    "\n",
    "from netunicorn.base.architecture import Architecture\n",
    "from netunicorn.base.nodes import Node\n",
    "from netunicorn.base.task import Failure, Task, TaskDispatcher\n",
    "\n",
    "class TraceRoute(TaskDispatcher):\n",
    "    def __init__(self, address: str, *args, **kwargs):\n",
    "        super().__init__(*args, **kwargs)\n",
    "        self.address = address\n",
    "        self.linux_implementation = TraceRouteLinuxImplementation(self.address)\n",
    "\n",
    "    def dispatch(self, node: Node) -> Task:\n",
    "        if node.architecture in {Architecture.LINUX_AMD64, Architecture.LINUX_ARM64}:\n",
    "            return self.linux_implementation\n",
    "        raise NotImplementedError(\n",
    "            f'TraceRoute is not implemented for architecture: {node.architecture}'\n",
    "        )\n",
    "\n",
    "class TraceRouteLinuxImplementation(Task):\n",
    "    \n",
    "    # Set the requirements to install the traceroute library\n",
    "    requirements = [\"\"]\n",
    "\n",
    "    def __init__(self, address: str, *args, **kwargs):\n",
    "        self.address = address.strip()\n",
    "        super().__init__(*args, **kwargs)\n",
    "\n",
    "    def run(self):\n",
    "        # IMPLEMENT THIS FUNCTION\n",
    "        return None\n",
    "    \n",
    "    def _format(self, output):\n",
    "        # Optional: Parse the output\n",
    "        return output"
   ]
  },
  {
   "cell_type": "code",
   "execution_count": 19,
   "id": "fbe8db02",
   "metadata": {},
   "outputs": [],
   "source": [
    "# Define the pipeline to just run this new task\n",
    "pipeline = None"
   ]
  },
  {
   "cell_type": "code",
   "execution_count": null,
   "id": "39d1a4dd",
   "metadata": {},
   "outputs": [],
   "source": [
    "client = RemoteClient(endpoint=NETUNICORN_ENDPOINT, login=NETUNICORN_LOGIN, password=NETUNICORN_PASSWORD)\n",
    "nodes = client.get_nodes()\n",
    "working_nodes = nodes.filter(lambda node: node.name.startswith(\"raspi\")).take(1)\n",
    "experiment = Experiment().map(pipeline, working_nodes)\n",
    "experiment_label = \"test_traceroute\"\n",
    "\n",
    "try:\n",
    "    client.delete_experiment(experiment_label)\n",
    "except RemoteClientException:\n",
    "    pass\n",
    "\n",
    "# Prepare Experiment\n",
    "client.prepare_experiment(experiment, experiment_label)\n",
    "while True:\n",
    "    info = client.get_experiment_status(experiment_label)\n",
    "    print(info.status)\n",
    "    if info.status == ExperimentStatus.READY:\n",
    "        break\n",
    "    time.sleep(20)\n",
    "\n",
    "time.sleep(5)\n",
    "\n",
    "# Execute Experiment\n",
    "client.start_execution(experiment_label)\n",
    "while True:\n",
    "    info = client.get_experiment_status(experiment_label)\n",
    "    print(info.status)\n",
    "    if info.status != ExperimentStatus.RUNNING:\n",
    "        break\n",
    "    time.sleep(20)"
   ]
  },
  {
   "cell_type": "code",
   "execution_count": null,
   "id": "7dbc5153",
   "metadata": {},
   "outputs": [],
   "source": [
    "# Get Results\n",
    "from returns.pipeline import is_successful\n",
    "from returns.result import Failure\n",
    "\n",
    "for report in info.execution_result:\n",
    "    print(f\"Node name: {report.node.name}\")\n",
    "    print(f\"Error: {report.error}\")\n",
    "\n",
    "    if report.result is None:\n",
    "        print(\"report.result is EMPTY..\")\n",
    "        continue\n",
    "\n",
    "    result, log = report.result  # report stores results of execution and corresponding log\n",
    "\n",
    "    # result is a returns.result.Result object, could be Success of Failure\n",
    "    print(f\"Result is: {type(result)}\")\n",
    "    if is_successful(result):\n",
    "        data = result.unwrap()\n",
    "    else:\n",
    "        data = result.failure()\n",
    "    try:\n",
    "        for key, value in data.items():\n",
    "            print(f\"{key}: {value}\")\n",
    "    except:\n",
    "        print(f\"No attribute 'items' in result\")\n",
    "\n",
    "    # we also can explore logs\n",
    "    for line in log:\n",
    "        print(line.strip())\n",
    "    print()"
   ]
  },
  {
   "cell_type": "markdown",
   "id": "7a24766a",
   "metadata": {},
   "source": [
    "## File Download Task\n",
    "For this task you will be implementing a task to download a single file using `wget` and reporting the time it takes to finish downloading."
   ]
  },
  {
   "cell_type": "code",
   "execution_count": null,
   "id": "8dcb647f",
   "metadata": {},
   "outputs": [],
   "source": [
    "import subprocess\n",
    "from dataclasses import dataclass\n",
    "from typing import List\n",
    "\n",
    "from netunicorn.base.architecture import Architecture\n",
    "from netunicorn.base.nodes import Node\n",
    "from netunicorn.base.task import Failure, Task, TaskDispatcher\n",
    "\n",
    "\n",
    "class FileDownload(TaskDispatcher):\n",
    "    def __init__(self, address: str, *args, **kwargs):\n",
    "        super().__init__(*args, **kwargs)\n",
    "        self.address = address\n",
    "        self.linux_implementation = FileDownloadLinuxImplementation(self.address)\n",
    "\n",
    "    def dispatch(self, node: Node) -> Task:\n",
    "        if node.architecture in {Architecture.LINUX_AMD64, Architecture.LINUX_ARM64}:\n",
    "            return self.linux_implementation\n",
    "        raise NotImplementedError(\n",
    "            f'TraceRoute is not implemented for architecture: {node.architecture}'\n",
    "        )\n",
    "\n",
    "\n",
    "class FileDownloadLinuxImplementation(Task):\n",
    "    # Set the requirements to install the wget library\n",
    "    requirements = [\"\"]\n",
    "\n",
    "    def __init__(self, address: str, *args, **kwargs):\n",
    "        self.address = address.strip()\n",
    "        super().__init__(*args, **kwargs)\n",
    "\n",
    "    def run(self):\n",
    "        # IMPLEMENT THIS FUNCTION"
   ]
  },
  {
   "cell_type": "code",
   "execution_count": 36,
   "id": "83316b34",
   "metadata": {},
   "outputs": [],
   "source": [
    "# Define the pipeline to just run this new task\n",
    "pipeline = None"
   ]
  },
  {
   "cell_type": "code",
   "execution_count": null,
   "id": "926e6193",
   "metadata": {},
   "outputs": [],
   "source": [
    "client = RemoteClient(endpoint=NETUNICORN_ENDPOINT, login=NETUNICORN_LOGIN, password=NETUNICORN_PASSWORD)\n",
    "nodes = client.get_nodes()\n",
    "working_nodes = nodes.filter(lambda node: node.name.startswith(\"raspi\")).take(1)\n",
    "experiment = Experiment().map(pipeline, working_nodes)\n",
    "experiment_label = \"test_traceroute\"\n",
    "\n",
    "try:\n",
    "    client.delete_experiment(experiment_label)\n",
    "except RemoteClientException:\n",
    "    pass\n",
    "\n",
    "# Prepare Experiment\n",
    "client.prepare_experiment(experiment, experiment_label)\n",
    "while True:\n",
    "    info = client.get_experiment_status(experiment_label)\n",
    "    print(info.status)\n",
    "    if info.status == ExperimentStatus.READY:\n",
    "        break\n",
    "    time.sleep(20)\n",
    "\n",
    "time.sleep(5)\n",
    "\n",
    "# Execute Experiment\n",
    "client.start_execution(experiment_label)\n",
    "while True:\n",
    "    info = client.get_experiment_status(experiment_label)\n",
    "    print(info.status)\n",
    "    if info.status != ExperimentStatus.RUNNING:\n",
    "        break\n",
    "    time.sleep(20)"
   ]
  },
  {
   "cell_type": "code",
   "execution_count": null,
   "id": "9d1f775c",
   "metadata": {},
   "outputs": [],
   "source": [
    "# Get Results\n",
    "from returns.pipeline import is_successful\n",
    "from returns.result import Failure\n",
    "\n",
    "for report in info.execution_result:\n",
    "    print(f\"Node name: {report.node.name}\")\n",
    "    print(f\"Error: {report.error}\")\n",
    "\n",
    "    if report.result is None:\n",
    "        print(\"report.result is EMPTY..\")\n",
    "        continue\n",
    "\n",
    "    result, log = report.result  # report stores results of execution and corresponding log\n",
    "\n",
    "    # result is a returns.result.Result object, could be Success of Failure\n",
    "    print(f\"Result is: {type(result)}\")\n",
    "    if is_successful(result):\n",
    "        data = result.unwrap()\n",
    "    else:\n",
    "        data = result.failure()\n",
    "    try:\n",
    "        for key, value in data.items():\n",
    "            print(f\"{key}: {value}\")\n",
    "    except:\n",
    "        print(f\"No attribute 'items' in result\")\n",
    "\n",
    "    # we also can explore logs\n",
    "    for line in log:\n",
    "        print(line.strip())\n",
    "    print()"
   ]
  },
  {
   "cell_type": "markdown",
   "id": "2449bfab",
   "metadata": {},
   "source": [
    "## SpeedTest + File Download\n",
    "Now we will attempt to run a speedtest alongside this file download to demonstrate how these active measurements can affect user traffic. Create a pipeline that starts a speedtest task using the StartSpeedTest task defined below, and then attempts to download a file. How different are the observed results?"
   ]
  },
  {
   "cell_type": "code",
   "execution_count": null,
   "id": "9cd5b874",
   "metadata": {},
   "outputs": [],
   "source": [
    "import subprocess\n",
    "from typing import Dict\n",
    "\n",
    "from netunicorn.base.architecture import Architecture\n",
    "from netunicorn.base.nodes import Node\n",
    "from netunicorn.base.task import Failure, Task, TaskDispatcher\n",
    "\n",
    "\n",
    "class StartSpeedTest(TaskDispatcher):\n",
    "    def __init__(self, *args, **kwargs):\n",
    "        super().__init__(*args, **kwargs)\n",
    "        self.linux_instance = StartSpeedTestLinuxImplementation(name=self.name)\n",
    "\n",
    "    def dispatch(self, node: Node) -> Task:\n",
    "        if node.architecture in {Architecture.LINUX_AMD64, Architecture.LINUX_ARM64}:\n",
    "            return self.linux_instance\n",
    "\n",
    "        raise NotImplementedError(\n",
    "            f'SpeedTest is not implemented for architecture: {node.architecture}'\n",
    "        )\n",
    "\n",
    "\n",
    "class StartSpeedTestLinuxImplementation(Task):\n",
    "    requirements = [\"pip install speedtest-cli\"]\n",
    "\n",
    "    def run(self):\n",
    "        proc = subprocess.Popen([\"speedtest-cli\", \"--simple\", \"--secure\"], capture_output=False)\n",
    "        time.sleep(2)\n",
    "        if (exit_code := proc.poll()) is None:  # not finished yet\n",
    "            return Success(proc.pid)\n",
    "        return Failure(f\"Speedtest terminated with return code {exit_code}\")\n"
   ]
  },
  {
   "cell_type": "code",
   "execution_count": null,
   "id": "c2b48010",
   "metadata": {},
   "outputs": [],
   "source": [
    "# Define the pipeline to just run this experiment\n",
    "pipeline = None"
   ]
  },
  {
   "cell_type": "code",
   "execution_count": null,
   "id": "8283cd47",
   "metadata": {},
   "outputs": [],
   "source": [
    "client = RemoteClient(endpoint=NETUNICORN_ENDPOINT, login=NETUNICORN_LOGIN, password=NETUNICORN_PASSWORD)\n",
    "nodes = client.get_nodes()\n",
    "working_nodes = nodes.filter(lambda node: node.name.startswith(\"raspi\")).take(1)\n",
    "experiment = Experiment().map(pipeline, working_nodes)\n",
    "experiment_label = \"test_traceroute\"\n",
    "\n",
    "try:\n",
    "    client.delete_experiment(experiment_label)\n",
    "except RemoteClientException:\n",
    "    pass\n",
    "\n",
    "# Prepare Experiment\n",
    "client.prepare_experiment(experiment, experiment_label)\n",
    "while True:\n",
    "    info = client.get_experiment_status(experiment_label)\n",
    "    print(info.status)\n",
    "    if info.status == ExperimentStatus.READY:\n",
    "        break\n",
    "    time.sleep(20)\n",
    "\n",
    "time.sleep(5)\n",
    "\n",
    "# Execute Experiment\n",
    "client.start_execution(experiment_label)\n",
    "while True:\n",
    "    info = client.get_experiment_status(experiment_label)\n",
    "    print(info.status)\n",
    "    if info.status != ExperimentStatus.RUNNING:\n",
    "        break\n",
    "    time.sleep(20)"
   ]
  },
  {
   "cell_type": "code",
   "execution_count": null,
   "id": "4979c2d2",
   "metadata": {},
   "outputs": [],
   "source": [
    "# Get Results\n",
    "from returns.pipeline import is_successful\n",
    "from returns.result import Failure\n",
    "\n",
    "for report in info.execution_result:\n",
    "    print(f\"Node name: {report.node.name}\")\n",
    "    print(f\"Error: {report.error}\")\n",
    "\n",
    "    if report.result is None:\n",
    "        print(\"report.result is EMPTY..\")\n",
    "        continue\n",
    "\n",
    "    result, log = report.result  # report stores results of execution and corresponding log\n",
    "\n",
    "    # result is a returns.result.Result object, could be Success of Failure\n",
    "    print(f\"Result is: {type(result)}\")\n",
    "    if is_successful(result):\n",
    "        data = result.unwrap()\n",
    "    else:\n",
    "        data = result.failure()\n",
    "    try:\n",
    "        for key, value in data.items():\n",
    "            print(f\"{key}: {value}\")\n",
    "    except:\n",
    "        print(f\"No attribute 'items' in result\")\n",
    "\n",
    "    # we also can explore logs\n",
    "    for line in log:\n",
    "        print(line.strip())\n",
    "    print()"
   ]
  },
  {
   "cell_type": "markdown",
   "id": "d586236a",
   "metadata": {},
   "source": [
    "## SpeedTest + File Download\n",
    "How do we need to change the implementation if we want to run a speedtest in the middle of a file download?"
   ]
  },
  {
   "cell_type": "code",
   "execution_count": null,
   "id": "430018e2",
   "metadata": {},
   "outputs": [],
   "source": []
  }
 ],
 "metadata": {
  "kernelspec": {
   "display_name": "Python 3 (ipykernel)",
   "language": "python",
   "name": "python3"
  },
  "language_info": {
   "codemirror_mode": {
    "name": "ipython",
    "version": 3
   },
   "file_extension": ".py",
   "mimetype": "text/x-python",
   "name": "python",
   "nbconvert_exporter": "python",
   "pygments_lexer": "ipython3",
   "version": "3.10.12"
  }
 },
 "nbformat": 4,
 "nbformat_minor": 5
}
