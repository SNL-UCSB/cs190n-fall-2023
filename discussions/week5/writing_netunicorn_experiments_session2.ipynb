{
 "cells": [
  {
   "cell_type": "code",
   "execution_count": 1,
   "id": "a2cfe95b",
   "metadata": {},
   "outputs": [
    {
     "data": {
      "text/html": [
       "<style>.container { width:100% !important; }</style>"
      ],
      "text/plain": [
       "<IPython.core.display.HTML object>"
      ]
     },
     "metadata": {},
     "output_type": "display_data"
    }
   ],
   "source": [
    "from IPython.display import display, HTML\n",
    "display(HTML(\"<style>.container { width:100% !important; }</style>\"))"
   ]
  },
  {
   "cell_type": "code",
   "execution_count": 3,
   "id": "dc2124d1",
   "metadata": {},
   "outputs": [
    {
     "name": "stdout",
     "output_type": "stream",
     "text": [
      "Defaulting to user installation because normal site-packages is not writeable\n",
      "Requirement already satisfied: netunicorn-base in /home/speeeday/.local/lib/python3.10/site-packages (0.3.7)\n",
      "Requirement already satisfied: typing-extensions in /home/speeeday/.local/lib/python3.10/site-packages (from netunicorn-base) (4.8.0)\n",
      "Requirement already satisfied: pydantic in /home/speeeday/.local/lib/python3.10/site-packages (from netunicorn-base) (2.4.2)\n",
      "Requirement already satisfied: returns in /usr/local/lib/python3.10/dist-packages (from netunicorn-base) (0.19.0)\n",
      "Requirement already satisfied: annotated-types>=0.4.0 in /home/speeeday/.local/lib/python3.10/site-packages (from pydantic->netunicorn-base) (0.6.0)\n",
      "Requirement already satisfied: pydantic-core==2.10.1 in /home/speeeday/.local/lib/python3.10/site-packages (from pydantic->netunicorn-base) (2.10.1)\n",
      "Note: you may need to restart the kernel to use updated packages.\n",
      "Defaulting to user installation because normal site-packages is not writeable\n",
      "Requirement already satisfied: netunicorn-client in /usr/local/lib/python3.10/dist-packages (0.2.4)\n",
      "Requirement already satisfied: requests in /usr/local/lib/python3.10/dist-packages (from netunicorn-client) (2.28.2)\n",
      "Requirement already satisfied: returns in /usr/local/lib/python3.10/dist-packages (from netunicorn-client) (0.19.0)\n",
      "Requirement already satisfied: netunicorn-base>=0.2.0 in /home/speeeday/.local/lib/python3.10/site-packages (from netunicorn-client) (0.3.7)\n",
      "Requirement already satisfied: cloudpickle in /usr/local/lib/python3.10/dist-packages (from netunicorn-client) (2.2.1)\n",
      "Requirement already satisfied: typing-extensions in /home/speeeday/.local/lib/python3.10/site-packages (from netunicorn-base>=0.2.0->netunicorn-client) (4.8.0)\n",
      "Requirement already satisfied: pydantic in /home/speeeday/.local/lib/python3.10/site-packages (from netunicorn-base>=0.2.0->netunicorn-client) (2.4.2)\n",
      "Requirement already satisfied: certifi>=2017.4.17 in /usr/local/lib/python3.10/dist-packages (from requests->netunicorn-client) (2022.12.7)\n",
      "Requirement already satisfied: urllib3<1.27,>=1.21.1 in /usr/local/lib/python3.10/dist-packages (from requests->netunicorn-client) (1.26.14)\n",
      "Requirement already satisfied: charset-normalizer<4,>=2 in /usr/local/lib/python3.10/dist-packages (from requests->netunicorn-client) (3.0.1)\n",
      "Requirement already satisfied: idna<4,>=2.5 in /usr/local/lib/python3.10/dist-packages (from requests->netunicorn-client) (3.4)\n",
      "Requirement already satisfied: pydantic-core==2.10.1 in /home/speeeday/.local/lib/python3.10/site-packages (from pydantic->netunicorn-base>=0.2.0->netunicorn-client) (2.10.1)\n",
      "Requirement already satisfied: annotated-types>=0.4.0 in /home/speeeday/.local/lib/python3.10/site-packages (from pydantic->netunicorn-base>=0.2.0->netunicorn-client) (0.6.0)\n",
      "Note: you may need to restart the kernel to use updated packages.\n",
      "Defaulting to user installation because normal site-packages is not writeable\n",
      "Requirement already satisfied: netunicorn-library in /home/speeeday/.local/lib/python3.10/site-packages (0.3.8)\n",
      "Requirement already satisfied: netunicorn-base>=0.3.1 in /home/speeeday/.local/lib/python3.10/site-packages (from netunicorn-library) (0.3.7)\n",
      "Requirement already satisfied: typing-extensions in /home/speeeday/.local/lib/python3.10/site-packages (from netunicorn-base>=0.3.1->netunicorn-library) (4.8.0)\n",
      "Requirement already satisfied: pydantic in /home/speeeday/.local/lib/python3.10/site-packages (from netunicorn-base>=0.3.1->netunicorn-library) (2.4.2)\n",
      "Requirement already satisfied: returns in /usr/local/lib/python3.10/dist-packages (from netunicorn-base>=0.3.1->netunicorn-library) (0.19.0)\n",
      "Requirement already satisfied: pydantic-core==2.10.1 in /home/speeeday/.local/lib/python3.10/site-packages (from pydantic->netunicorn-base>=0.3.1->netunicorn-library) (2.10.1)\n",
      "Requirement already satisfied: annotated-types>=0.4.0 in /home/speeeday/.local/lib/python3.10/site-packages (from pydantic->netunicorn-base>=0.3.1->netunicorn-library) (0.6.0)\n",
      "Note: you may need to restart the kernel to use updated packages.\n"
     ]
    }
   ],
   "source": [
    "%pip install netunicorn-base\n",
    "%pip install netunicorn-client\n",
    "%pip install netunicorn-library"
   ]
  },
  {
   "cell_type": "code",
   "execution_count": 1,
   "id": "21230c04",
   "metadata": {},
   "outputs": [],
   "source": [
    "import os\n",
    "import time\n",
    "import random\n",
    "import time\n",
    "import requests \n",
    "import re\n",
    "import logging\n",
    "import subprocess\n",
    "from subprocess import Popen\n",
    "from sys import platform\n",
    "import os, sys\n",
    "import logging\n",
    "import json\n",
    "import threading\n",
    "\n",
    "from netunicorn.client.remote import RemoteClient, RemoteClientException\n",
    "from netunicorn.base import Experiment, ExperimentStatus, Pipeline\n",
    "from netunicorn.library.tasks.basic import SleepTask\n",
    "from netunicorn.library.tasks.measurements.ping import Ping\n",
    "from netunicorn.base.architecture import Architecture\n",
    "from netunicorn.base.nodes import Node\n",
    "from netunicorn.base.task import Failure, Task, TaskDispatcher\n",
    "from netunicorn.base import Result, Failure, Success, Task, TaskDispatcher\n",
    "from netunicorn.base.architecture import Architecture\n",
    "from netunicorn.base.nodes import Node\n",
    "\n",
    "from typing import Dict\n",
    "from typing import Optional\n",
    "from enum import IntEnum\n",
    "from datetime import datetime"
   ]
  },
  {
   "cell_type": "markdown",
   "id": "daa716f4",
   "metadata": {},
   "source": [
    "# Discussion Section Week 5\n",
    "In this section we will practice running experiments with netUnicorn.\n",
    "\n",
    "First we will get you setup with your netUnicorn API Credentials. If you submitted a project proposal, you should have received an email containing the credentials for accessing the netunicorn API. Please log on to the server and query the length and amount of available nodes in this deployment."
   ]
  },
  {
   "cell_type": "markdown",
   "id": "4e215061",
   "metadata": {},
   "source": [
    "## NetUnicorn API Credentials"
   ]
  },
  {
   "cell_type": "code",
   "execution_count": 2,
   "id": "e945f456",
   "metadata": {},
   "outputs": [],
   "source": [
    "NETUNICORN_ENDPOINT = os.environ.get('NETUNICORN_ENDPOINT', 'https://pinot.cs.ucsb.edu/netunicorn')\n",
    "NETUNICORN_LOGIN = os.environ.get('NETUNICORN_LOGIN', '')       # substitute your login here\n",
    "NETUNICORN_PASSWORD = os.environ.get('NETUNICORN_PASSWORD', '') # substitue your password here"
   ]
  },
  {
   "cell_type": "markdown",
   "id": "38dd8176",
   "metadata": {},
   "source": [
    "Display the available nodes in the netunicorn deployment. You should nodes of a few different types (aws, raspi, etc.)"
   ]
  },
  {
   "cell_type": "code",
   "execution_count": 4,
   "id": "b4b79ec7",
   "metadata": {},
   "outputs": [
    {
     "name": "stdout",
     "output_type": "stream",
     "text": [
      "Health Check: True\n",
      "[<Uncountable node pool with next node template: [aws-fargate-A-, aws-fargate-B-, aws-fargate-ARM64-]>, [snl-server-5, atopnuc-84:47:09:1b:00:3c, atopnuc-84:47:09:16:b6:cf, atopnuc-84:47:09:17:c0:b6, atopnuc-84:47:09:17:c1:df, atopnuc-84:47:09:17:c1:8d, atopnuc-84:47:09:17:c8:0c, atopnuc-84:47:09:17:c4:83, atopnuc-84:47:09:17:c1:b7, atopnuc-84:47:09:17:c2:14, atopnuc-84:47:09:17:c0:57, atopnuc-84:47:09:17:c0:f6, raspi-e4:5f:01:56:d8:cd, raspi-e4:5f:01:56:d9:8b, raspi-e4:5f:01:a0:4f:96, raspi-e4:5f:01:56:d9:a3, raspi-e4:5f:01:9b:85:9c, raspi-e4:5f:01:a0:4a:dd, raspi-e4:5f:01:75:6e:53, raspi-e4:5f:01:79:4a:18, raspi-e4:5f:01:8d:f5:95, raspi-dc:a6:32:d7:6e:64, raspi-e4:5f:01:6f:ef:0a, raspi-e4:5f:01:8c:8a:41, raspi-e4:5f:01:ac:e5:4b, raspi-e4:5f:01:96:01:e8, raspi-e4:5f:01:9c:ca:3a, raspi-e4:5f:01:72:a3:1c, raspi-e4:5f:01:75:ae:8d, raspi-e4:5f:01:72:a2:35, raspi-e4:5f:01:ad:c9:2a, raspi-e4:5f:01:a7:ae:70, raspi-e4:5f:01:a0:34:a5, raspi-e4:5f:01:9c:20:81, raspi-e4:5f:01:56:d9:0a, raspi-e4:5f:01:a0:4f:c5, raspi-e4:5f:01:56:d6:ce, raspi-e4:5f:01:84:8c:99, raspi-e4:5f:01:75:54:04, raspi-e4:5f:01:a0:4a:77, raspi-e4:5f:01:a7:b1:a3, raspi-e4:5f:01:9c:25:7d, raspi-e4:5f:01:84:7f:76, raspi-e4:5f:01:75:54:ec, raspi-e4:5f:01:6f:ee:14, raspi-e4:5f:01:78:6f:2e, raspi-e4:5f:01:a0:50:5f, raspi-e4:5f:01:a0:32:5f, raspi-e4:5f:01:a7:b2:7e, raspi-e4:5f:01:a0:4b:01, raspi-e4:5f:01:a0:4e:31, raspi-e4:5f:01:75:6b:2c, raspi-e4:5f:01:88:c4:99, raspi-e4:5f:01:8d:ca:12, raspi-e4:5f:01:56:d9:a2, raspi-e4:5f:01:ad:c9:04, raspi-e4:5f:01:72:a2:eb, raspi-e4:5f:01:9c:24:87, raspi-e4:5f:01:ad:c9:3f, raspi-e4:5f:01:8d:ca:31, raspi-e4:5f:01:a7:b1:e5, raspi-e4:5f:01:a7:b1:c1, raspi-e4:5f:01:a7:b1:9d, raspi-e4:5f:01:ad:c9:11, raspi-e4:5f:01:6f:ed:f3, raspi-e4:5f:01:a0:21:49, raspi-e4:5f:01:75:6a:df, raspi-e4:5f:01:ac:ed:5b, raspi-e4:5f:01:8d:ca:34, raspi-e4:5f:01:8e:27:aa, raspi-e4:5f:01:9b:84:c4]]\n",
      "2\n"
     ]
    }
   ],
   "source": [
    "client = RemoteClient(endpoint=NETUNICORN_ENDPOINT, login=NETUNICORN_LOGIN, password=NETUNICORN_PASSWORD)\n",
    "print(\"Health Check: {}\".format(client.healthcheck()))\n",
    "nodes = client.get_nodes()\n",
    "print(nodes)\n",
    "print(len(nodes))"
   ]
  },
  {
   "cell_type": "markdown",
   "id": "0b78d7d0",
   "metadata": {},
   "source": [
    "Last week we talked about the SpeedTest Task and how we can run speedtests on nodes and retrieve the results. Similarly, we have the Ping Task that we can use to ping an address. We can also specify the number of ping samples to generate."
   ]
  },
  {
   "cell_type": "code",
   "execution_count": 3,
   "id": "e29a9904",
   "metadata": {},
   "outputs": [],
   "source": [
    "pipeline = Pipeline().then(Ping(address='8.8.8.8', count=5))"
   ]
  },
  {
   "cell_type": "code",
   "execution_count": 4,
   "id": "fddc4d03",
   "metadata": {},
   "outputs": [
    {
     "name": "stdout",
     "output_type": "stream",
     "text": [
      "ExperimentStatus.PREPARING\n",
      "ExperimentStatus.PREPARING\n",
      "ExperimentStatus.PREPARING\n",
      "ExperimentStatus.PREPARING\n",
      "ExperimentStatus.READY\n",
      "ExperimentStatus.RUNNING\n",
      "ExperimentStatus.RUNNING\n",
      "ExperimentStatus.FINISHED\n"
     ]
    }
   ],
   "source": [
    "client = RemoteClient(endpoint=NETUNICORN_ENDPOINT, login=NETUNICORN_LOGIN, password=NETUNICORN_PASSWORD)\n",
    "nodes = client.get_nodes()\n",
    "#working_nodes = [\"raspi-e4:5f:01:56:d9:8b\", \"raspi-e4:5f:01:ad:c9:04\"]\n",
    "working_nodes = nodes.filter(lambda node: node.name.startswith(\"raspi\")).take(1)\n",
    "experiment = Experiment().map(pipeline, working_nodes)\n",
    "experiment_label = \"test_ping\"\n",
    "\n",
    "try:\n",
    "    client.delete_experiment(experiment_label)\n",
    "except RemoteClientException:\n",
    "    pass\n",
    "\n",
    "# Prepare Experiment\n",
    "client.prepare_experiment(experiment, experiment_label)\n",
    "while True:\n",
    "    info = client.get_experiment_status(experiment_label)\n",
    "    print(info.status)\n",
    "    if info.status == ExperimentStatus.READY:\n",
    "        break\n",
    "    time.sleep(20)\n",
    "\n",
    "time.sleep(5)\n",
    "\n",
    "# Execute Experiment\n",
    "client.start_execution(experiment_label)\n",
    "while True:\n",
    "    info = client.get_experiment_status(experiment_label)\n",
    "    print(info.status)\n",
    "    if info.status != ExperimentStatus.RUNNING:\n",
    "        break\n",
    "    time.sleep(20)"
   ]
  },
  {
   "cell_type": "code",
   "execution_count": 5,
   "id": "0c7af143",
   "metadata": {},
   "outputs": [
    {
     "name": "stdout",
     "output_type": "stream",
     "text": [
      "Node name: raspi-e4:5f:01:56:d8:cd\n",
      "Error: None\n",
      "Result is: <class 'returns.result.Success'>\n",
      "container_value: defaultdict(<class 'list'>, {'865dc04f-0205-4a67-9556-b1c006f2b1de': [<Success: {'container_value': PingResult(host='8.8.8.8', packets=[PacketResult(icmp_seq=0, ttl=58, time=4.39, unit='ms'), PacketResult(icmp_seq=1, ttl=58, time=4.129, unit='ms'), PacketResult(icmp_seq=2, ttl=58, time=4.37, unit='ms'), PacketResult(icmp_seq=3, ttl=58, time=4.276, unit='ms'), PacketResult(icmp_seq=4, ttl=58, time=6.009, unit='ms')], packet_loss=0.0, min_rtt=4.129, avg_rtt=4.635, max_rtt=6.009, stddev_rtt=0.693, unit_rtt='ms', unparsed_output=[], raw_output='PING 8.8.8.8 (8.8.8.8): 56 data bytes\\n64 bytes from 8.8.8.8: icmp_seq=0 ttl=58 time=4.390 ms\\n64 bytes from 8.8.8.8: icmp_seq=1 ttl=58 time=4.129 ms\\n64 bytes from 8.8.8.8: icmp_seq=2 ttl=58 time=4.370 ms\\n64 bytes from 8.8.8.8: icmp_seq=3 ttl=58 time=4.276 ms\\n64 bytes from 8.8.8.8: icmp_seq=4 ttl=58 time=6.009 ms\\n--- 8.8.8.8 ping statistics ---\\n5 packets transmitted, 5 packets received, 0% packet loss\\nround-trip min/avg/max/stddev = 4.129/4.635/6.009/0.693 ms\\n')}>]})\n",
      "Parsed configuration: Gateway located on https://pinot.cs.ucsb.edu/dev/netunicorn/gateway\n",
      "Current directory: /\n",
      "Pipeline loaded from local file, executing.\n",
      "Pipeline finished, start reporting results.\n",
      "\n"
     ]
    }
   ],
   "source": [
    "# Get Results\n",
    "from returns.pipeline import is_successful\n",
    "from returns.result import Failure\n",
    "\n",
    "for report in info.execution_result:\n",
    "    print(f\"Node name: {report.node.name}\")\n",
    "    print(f\"Error: {report.error}\")\n",
    "\n",
    "    if report.result is None:\n",
    "        print(\"report.result is EMPTY..\")\n",
    "        continue\n",
    "\n",
    "    result, log = report.result  # report stores results of execution and corresponding log\n",
    "\n",
    "    # result is a returns.result.Result object, could be Success of Failure\n",
    "    print(f\"Result is: {type(result)}\")\n",
    "    if is_successful(result):\n",
    "        data = result.unwrap()\n",
    "    else:\n",
    "        data = result.failure()\n",
    "    try:\n",
    "        for key, value in data.items():\n",
    "            print(f\"{key}: {value}\")\n",
    "    except:\n",
    "        print(f\"No attribute 'items' in result\")\n",
    "\n",
    "    # we also can explore logs\n",
    "    for line in log:\n",
    "        print(line.strip())\n",
    "    print()"
   ]
  },
  {
   "cell_type": "markdown",
   "id": "8918d8e9",
   "metadata": {},
   "source": [
    "You can observe that the raw_output, as well as the parsed output in this case, is returned in the results"
   ]
  },
  {
   "cell_type": "markdown",
   "id": "7389dcba",
   "metadata": {},
   "source": [
    "## Traceroute Task\n",
    "For this task you will be implementing a traceroute task, similar to the [ping](https://github.com/netunicorn/netunicorn-library/blob/main/tasks/measurements/ping.py) task."
   ]
  },
  {
   "cell_type": "code",
   "execution_count": 6,
   "id": "a6b14853",
   "metadata": {},
   "outputs": [],
   "source": [
    "import subprocess\n",
    "from dataclasses import dataclass\n",
    "from typing import List\n",
    "\n",
    "from netunicorn.base.architecture import Architecture\n",
    "from netunicorn.base.nodes import Node\n",
    "from netunicorn.base.task import Failure, Task, TaskDispatcher\n",
    "\n",
    "class TraceRoute(TaskDispatcher):\n",
    "    def __init__(self, address: str, *args, **kwargs):\n",
    "        super().__init__(*args, **kwargs)\n",
    "        self.address = address\n",
    "        self.linux_implementation = TraceRouteLinuxImplementation(self.address)\n",
    "\n",
    "    def dispatch(self, node: Node) -> Task:\n",
    "        if node.architecture in {Architecture.LINUX_AMD64, Architecture.LINUX_ARM64}:\n",
    "            return self.linux_implementation\n",
    "        raise NotImplementedError(\n",
    "            f'TraceRoute is not implemented for architecture: {node.architecture}'\n",
    "        )\n",
    "\n",
    "class TraceRouteLinuxImplementation(Task):\n",
    "    \n",
    "    requirements = [\"apt-get install -y traceroute\"]\n",
    "\n",
    "    def __init__(self, address: str, *args, **kwargs):\n",
    "        self.address = address.strip()\n",
    "        super().__init__(*args, **kwargs)\n",
    "\n",
    "    def run(self):\n",
    "        result = subprocess.run(\n",
    "            [\"traceroute\", self.address], capture_output=True\n",
    "        )\n",
    "        if result.returncode != 0:\n",
    "            return Failure(\n",
    "                result.stdout.decode(\"utf-8\").strip()\n",
    "                + \"\\n\"\n",
    "                + result.stderr.decode(\"utf-8\").strip()\n",
    "            )\n",
    "\n",
    "        return self._format(result.stdout.decode(\"utf-8\"))\n",
    "    \n",
    "    def _format(self, output):\n",
    "        # Optional: Parse the output\n",
    "        return output"
   ]
  },
  {
   "cell_type": "code",
   "execution_count": 7,
   "id": "fbe8db02",
   "metadata": {},
   "outputs": [],
   "source": [
    "# Define the pipeline to just run this new task\n",
    "pipeline = Pipeline().then(TraceRoute(address='google.com'))"
   ]
  },
  {
   "cell_type": "code",
   "execution_count": 8,
   "id": "39d1a4dd",
   "metadata": {},
   "outputs": [
    {
     "name": "stdout",
     "output_type": "stream",
     "text": [
      "ExperimentStatus.PREPARING\n",
      "ExperimentStatus.PREPARING\n",
      "ExperimentStatus.PREPARING\n",
      "ExperimentStatus.PREPARING\n",
      "ExperimentStatus.PREPARING\n",
      "ExperimentStatus.READY\n",
      "ExperimentStatus.RUNNING\n",
      "ExperimentStatus.RUNNING\n",
      "ExperimentStatus.FINISHED\n"
     ]
    }
   ],
   "source": [
    "client = RemoteClient(endpoint=NETUNICORN_ENDPOINT, login=NETUNICORN_LOGIN, password=NETUNICORN_PASSWORD)\n",
    "nodes = client.get_nodes()\n",
    "working_nodes = nodes.filter(lambda node: node.name.startswith(\"raspi\")).take(1)\n",
    "experiment = Experiment().map(pipeline, working_nodes)\n",
    "experiment_label = \"test_traceroute\"\n",
    "\n",
    "try:\n",
    "    client.delete_experiment(experiment_label)\n",
    "except RemoteClientException:\n",
    "    pass\n",
    "\n",
    "# Prepare Experiment\n",
    "client.prepare_experiment(experiment, experiment_label)\n",
    "while True:\n",
    "    info = client.get_experiment_status(experiment_label)\n",
    "    print(info.status)\n",
    "    if info.status == ExperimentStatus.READY:\n",
    "        break\n",
    "    time.sleep(20)\n",
    "\n",
    "time.sleep(5)\n",
    "\n",
    "# Execute Experiment\n",
    "client.start_execution(experiment_label)\n",
    "while True:\n",
    "    info = client.get_experiment_status(experiment_label)\n",
    "    print(info.status)\n",
    "    if info.status != ExperimentStatus.RUNNING:\n",
    "        break\n",
    "    time.sleep(20)"
   ]
  },
  {
   "cell_type": "code",
   "execution_count": 9,
   "id": "7dbc5153",
   "metadata": {},
   "outputs": [
    {
     "name": "stdout",
     "output_type": "stream",
     "text": [
      "Node name: raspi-e4:5f:01:56:d8:cd\n",
      "Error: None\n",
      "Result is: <class 'returns.result.Success'>\n",
      "container_value: defaultdict(<class 'list'>, {'22e2cabc-5dc9-4b7c-8b1d-10f7ac148813': [<Success: {'container_value': 'traceroute to google.com (142.250.68.78), 30 hops max, 60 byte packets\\n 1  172.17.0.1 (172.17.0.1)  0.141 ms  0.049 ms  0.047 ms\\n 2  10.1.1.1 (10.1.1.1)  0.749 ms  0.494 ms  0.436 ms\\n 3  csworld52.cs.ucsb.edu (128.111.52.1)  1.952 ms  1.810 ms  1.671 ms\\n 4  r1--535-c--1.commserv.ucsb.edu (128.111.252.148)  1.912 ms  1.705 ms  1.639 ms\\n 5  dc--lax-agg10--ucsb--100g.cenic.net (137.164.23.90)  3.636 ms  3.934 ms  3.839 ms\\n 6  72.14.222.56 (72.14.222.56)  3.685 ms  3.993 ms 74.125.49.165 (74.125.49.165)  5.548 ms\\n 7  * 108.170.247.161 (108.170.247.161)  4.050 ms  4.005 ms\\n 8  142.250.226.45 (142.250.226.45)  4.350 ms 142.250.226.43 (142.250.226.43)  4.709 ms  4.621 ms\\n 9  142.250.226.43 (142.250.226.43)  4.919 ms lax31s11-in-f14.1e100.net (142.250.68.78)  3.633 ms  3.493 ms\\n'}>]})\n",
      "Parsed configuration: Gateway located on https://pinot.cs.ucsb.edu/dev/netunicorn/gateway\n",
      "Current directory: /\n",
      "Pipeline loaded from local file, executing.\n",
      "Pipeline finished, start reporting results.\n",
      "\n"
     ]
    }
   ],
   "source": [
    "# Get Results\n",
    "from returns.pipeline import is_successful\n",
    "from returns.result import Failure\n",
    "\n",
    "for report in info.execution_result:\n",
    "    print(f\"Node name: {report.node.name}\")\n",
    "    print(f\"Error: {report.error}\")\n",
    "\n",
    "    if report.result is None:\n",
    "        print(\"report.result is EMPTY..\")\n",
    "        continue\n",
    "\n",
    "    result, log = report.result  # report stores results of execution and corresponding log\n",
    "\n",
    "    # result is a returns.result.Result object, could be Success of Failure\n",
    "    print(f\"Result is: {type(result)}\")\n",
    "    if is_successful(result):\n",
    "        data = result.unwrap()\n",
    "    else:\n",
    "        data = result.failure()\n",
    "    try:\n",
    "        for key, value in data.items():\n",
    "            print(f\"{key}: {value}\")\n",
    "    except:\n",
    "        print(f\"No attribute 'items' in result\")\n",
    "\n",
    "    # we also can explore logs\n",
    "    for line in log:\n",
    "        print(line.strip())\n",
    "    print()"
   ]
  },
  {
   "cell_type": "markdown",
   "id": "7a24766a",
   "metadata": {},
   "source": [
    "## File Download Task\n",
    "For this task you will be implementing a task to download a single file using `wget` and reporting the time it takes to finish downloading."
   ]
  },
  {
   "cell_type": "code",
   "execution_count": null,
   "id": "8dcb647f",
   "metadata": {},
   "outputs": [],
   "source": [
    "import subprocess\n",
    "from dataclasses import dataclass\n",
    "from typing import List\n",
    "\n",
    "from netunicorn.base.architecture import Architecture\n",
    "from netunicorn.base.nodes import Node\n",
    "from netunicorn.base.task import Failure, Task, TaskDispatcher\n",
    "\n",
    "\n",
    "class FileDownload(TaskDispatcher):\n",
    "    def __init__(self, address: str, *args, **kwargs):\n",
    "        super().__init__(*args, **kwargs)\n",
    "        self.address = address\n",
    "        self.linux_implementation = FileDownloadLinuxImplementation(self.address)\n",
    "\n",
    "    def dispatch(self, node: Node) -> Task:\n",
    "        if node.architecture in {Architecture.LINUX_AMD64, Architecture.LINUX_ARM64}:\n",
    "            return self.linux_implementation\n",
    "        raise NotImplementedError(\n",
    "            f'TraceRoute is not implemented for architecture: {node.architecture}'\n",
    "        )\n",
    "\n",
    "\n",
    "class FileDownloadLinuxImplementation(Task):\n",
    "    # Set the requirements to install the wget library\n",
    "    requirements = [\"apt-get install -y wget\"]\n",
    "\n",
    "    def __init__(self, address: str, *args, **kwargs):\n",
    "        self.address = address.strip()\n",
    "        super().__init__(*args, **kwargs)\n",
    "\n",
    "    def run(self):\n",
    "        # IMPLEMENT THIS FUNCTION"
   ]
  },
  {
   "cell_type": "code",
   "execution_count": 36,
   "id": "83316b34",
   "metadata": {},
   "outputs": [],
   "source": [
    "# Define the pipeline to just run this new task\n",
    "pipeline = None"
   ]
  },
  {
   "cell_type": "code",
   "execution_count": null,
   "id": "926e6193",
   "metadata": {},
   "outputs": [],
   "source": [
    "client = RemoteClient(endpoint=NETUNICORN_ENDPOINT, login=NETUNICORN_LOGIN, password=NETUNICORN_PASSWORD)\n",
    "nodes = client.get_nodes()\n",
    "working_nodes = nodes.filter(lambda node: node.name.startswith(\"raspi\")).take(1)\n",
    "experiment = Experiment().map(pipeline, working_nodes)\n",
    "experiment_label = \"test_traceroute\"\n",
    "\n",
    "try:\n",
    "    client.delete_experiment(experiment_label)\n",
    "except RemoteClientException:\n",
    "    pass\n",
    "\n",
    "# Prepare Experiment\n",
    "client.prepare_experiment(experiment, experiment_label)\n",
    "while True:\n",
    "    info = client.get_experiment_status(experiment_label)\n",
    "    print(info.status)\n",
    "    if info.status == ExperimentStatus.READY:\n",
    "        break\n",
    "    time.sleep(20)\n",
    "\n",
    "time.sleep(5)\n",
    "\n",
    "# Execute Experiment\n",
    "client.start_execution(experiment_label)\n",
    "while True:\n",
    "    info = client.get_experiment_status(experiment_label)\n",
    "    print(info.status)\n",
    "    if info.status != ExperimentStatus.RUNNING:\n",
    "        break\n",
    "    time.sleep(20)"
   ]
  },
  {
   "cell_type": "code",
   "execution_count": null,
   "id": "9d1f775c",
   "metadata": {},
   "outputs": [],
   "source": [
    "# Get Results\n",
    "from returns.pipeline import is_successful\n",
    "from returns.result import Failure\n",
    "\n",
    "for report in info.execution_result:\n",
    "    print(f\"Node name: {report.node.name}\")\n",
    "    print(f\"Error: {report.error}\")\n",
    "\n",
    "    if report.result is None:\n",
    "        print(\"report.result is EMPTY..\")\n",
    "        continue\n",
    "\n",
    "    result, log = report.result  # report stores results of execution and corresponding log\n",
    "\n",
    "    # result is a returns.result.Result object, could be Success of Failure\n",
    "    print(f\"Result is: {type(result)}\")\n",
    "    if is_successful(result):\n",
    "        data = result.unwrap()\n",
    "    else:\n",
    "        data = result.failure()\n",
    "    try:\n",
    "        for key, value in data.items():\n",
    "            print(f\"{key}: {value}\")\n",
    "    except:\n",
    "        print(f\"No attribute 'items' in result\")\n",
    "\n",
    "    # we also can explore logs\n",
    "    for line in log:\n",
    "        print(line.strip())\n",
    "    print()"
   ]
  },
  {
   "cell_type": "markdown",
   "id": "2449bfab",
   "metadata": {},
   "source": [
    "## SpeedTest + File Download\n",
    "Now we will attempt to run a speedtest alongside this file download to demonstrate how these active measurements can affect user traffic. Create a pipeline that starts a speedtest task using the StartSpeedTest task defined below, and then attempts to download a file. How different are the observed results?"
   ]
  },
  {
   "cell_type": "code",
   "execution_count": null,
   "id": "9cd5b874",
   "metadata": {},
   "outputs": [],
   "source": [
    "import subprocess\n",
    "from typing import Dict\n",
    "\n",
    "from netunicorn.base.architecture import Architecture\n",
    "from netunicorn.base.nodes import Node\n",
    "from netunicorn.base.task import Failure, Task, TaskDispatcher\n",
    "\n",
    "\n",
    "class StartSpeedTest(TaskDispatcher):\n",
    "    def __init__(self, *args, **kwargs):\n",
    "        super().__init__(*args, **kwargs)\n",
    "        self.linux_instance = StartSpeedTestLinuxImplementation(name=self.name)\n",
    "\n",
    "    def dispatch(self, node: Node) -> Task:\n",
    "        if node.architecture in {Architecture.LINUX_AMD64, Architecture.LINUX_ARM64}:\n",
    "            return self.linux_instance\n",
    "\n",
    "        raise NotImplementedError(\n",
    "            f'SpeedTest is not implemented for architecture: {node.architecture}'\n",
    "        )\n",
    "\n",
    "\n",
    "class StartSpeedTestLinuxImplementation(Task):\n",
    "    requirements = [\"pip install speedtest-cli\"]\n",
    "\n",
    "    def run(self):\n",
    "        proc = subprocess.Popen([\"speedtest-cli\", \"--simple\", \"--secure\"], capture_output=False)\n",
    "        time.sleep(2)\n",
    "        if (exit_code := proc.poll()) is None:  # not finished yet\n",
    "            return Success(proc.pid)\n",
    "        return Failure(f\"Speedtest terminated with return code {exit_code}\")\n",
    "\n",
    "class StopSpeedTestLinuxImplementation(Task):\n",
    "    kill('speedtest-cli')"
   ]
  },
  {
   "cell_type": "code",
   "execution_count": null,
   "id": "c2b48010",
   "metadata": {},
   "outputs": [],
   "source": [
    "# Define the pipeline to just run this experiment\n",
    "pipeline = Pipeline().then(StartSpeedTest()).then(FileDownload())"
   ]
  },
  {
   "cell_type": "code",
   "execution_count": null,
   "id": "8283cd47",
   "metadata": {},
   "outputs": [],
   "source": [
    "client = RemoteClient(endpoint=NETUNICORN_ENDPOINT, login=NETUNICORN_LOGIN, password=NETUNICORN_PASSWORD)\n",
    "nodes = client.get_nodes()\n",
    "working_nodes = nodes.filter(lambda node: node.name.startswith(\"raspi\")).take(1)\n",
    "experiment = Experiment().map(pipeline, working_nodes)\n",
    "experiment_label = \"test_traceroute\"\n",
    "\n",
    "try:\n",
    "    client.delete_experiment(experiment_label)\n",
    "except RemoteClientException:\n",
    "    pass\n",
    "\n",
    "# Prepare Experiment\n",
    "client.prepare_experiment(experiment, experiment_label)\n",
    "while True:\n",
    "    info = client.get_experiment_status(experiment_label)\n",
    "    print(info.status)\n",
    "    if info.status == ExperimentStatus.READY:\n",
    "        break\n",
    "    time.sleep(20)\n",
    "\n",
    "time.sleep(5)\n",
    "\n",
    "# Execute Experiment\n",
    "client.start_execution(experiment_label)\n",
    "while True:\n",
    "    info = client.get_experiment_status(experiment_label)\n",
    "    print(info.status)\n",
    "    if info.status != ExperimentStatus.RUNNING:\n",
    "        break\n",
    "    time.sleep(20)"
   ]
  },
  {
   "cell_type": "code",
   "execution_count": null,
   "id": "4979c2d2",
   "metadata": {},
   "outputs": [],
   "source": [
    "# Get Results\n",
    "from returns.pipeline import is_successful\n",
    "from returns.result import Failure\n",
    "\n",
    "for report in info.execution_result:\n",
    "    print(f\"Node name: {report.node.name}\")\n",
    "    print(f\"Error: {report.error}\")\n",
    "\n",
    "    if report.result is None:\n",
    "        print(\"report.result is EMPTY..\")\n",
    "        continue\n",
    "\n",
    "    result, log = report.result  # report stores results of execution and corresponding log\n",
    "\n",
    "    # result is a returns.result.Result object, could be Success of Failure\n",
    "    print(f\"Result is: {type(result)}\")\n",
    "    if is_successful(result):\n",
    "        data = result.unwrap()\n",
    "    else:\n",
    "        data = result.failure()\n",
    "    try:\n",
    "        for key, value in data.items():\n",
    "            print(f\"{key}: {value}\")\n",
    "    except:\n",
    "        print(f\"No attribute 'items' in result\")\n",
    "\n",
    "    # we also can explore logs\n",
    "    for line in log:\n",
    "        print(line.strip())\n",
    "    print()"
   ]
  },
  {
   "cell_type": "markdown",
   "id": "d586236a",
   "metadata": {},
   "source": [
    "## SpeedTest + File Download\n",
    "How do we need to change the implementation if we want to run a speedtest in the middle of a file download?"
   ]
  },
  {
   "cell_type": "code",
   "execution_count": null,
   "id": "430018e2",
   "metadata": {},
   "outputs": [],
   "source": []
  }
 ],
 "metadata": {
  "kernelspec": {
   "display_name": "Python 3 (ipykernel)",
   "language": "python",
   "name": "python3"
  },
  "language_info": {
   "codemirror_mode": {
    "name": "ipython",
    "version": 3
   },
   "file_extension": ".py",
   "mimetype": "text/x-python",
   "name": "python",
   "nbconvert_exporter": "python",
   "pygments_lexer": "ipython3",
   "version": "3.10.12"
  }
 },
 "nbformat": 4,
 "nbformat_minor": 5
}
