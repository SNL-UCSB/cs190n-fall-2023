{
 "cells": [
  {
   "cell_type": "markdown",
   "id": "f9e1364d",
   "metadata": {},
   "source": [
    "# Example Jupyter Notebook\n",
    "## Markdown Cell\n",
    "\n",
    "In markdown cell, you can write text with formatting. To render the markdown, select the cell and press Shift + Enter. You can also use markdown for documentation and explanations. \n",
    "\n",
    "## Code Cell\n",
    "Code cells can be used to execute python code. To execute a code cell, select it and press Shift + Enter or click the \"Run\" button on the toolbar."
   ]
  },
  {
   "cell_type": "code",
   "execution_count": null,
   "id": "3f5ec93f",
   "metadata": {},
   "outputs": [],
   "source": [
    "# This is a code cell\n",
    "a = 5\n",
    "b = 7\n",
    "sum = a + b\n",
    "sum"
   ]
  },
  {
   "cell_type": "code",
   "execution_count": null,
   "id": "c1d8aa70",
   "metadata": {},
   "outputs": [],
   "source": [
    "# We can import libraries as well\n",
    "import numpy as np\n",
    "import matplotlib.pyplot as plt"
   ]
  },
  {
   "cell_type": "code",
   "execution_count": null,
   "id": "36203563",
   "metadata": {},
   "outputs": [],
   "source": [
    "# And define functions\n",
    "def koch_snowflake(order, scale=10):\n",
    "    \"\"\"\n",
    "    Return two lists x, y of point coordinates of the Koch snowflake.\n",
    "\n",
    "    Parameters\n",
    "    ----------\n",
    "    order : int\n",
    "        The recursion depth.\n",
    "    scale : float\n",
    "        The extent of the snowflake (edge length of the base triangle).\n",
    "    \"\"\"\n",
    "    def _koch_snowflake_complex(order):\n",
    "        if order == 0:\n",
    "            # initial triangle\n",
    "            angles = np.array([0, 120, 240]) + 90\n",
    "            return scale / np.sqrt(3) * np.exp(np.deg2rad(angles) * 1j)\n",
    "        else:\n",
    "            ZR = 0.5 - 0.5j * np.sqrt(3) / 3\n",
    "\n",
    "            p1 = _koch_snowflake_complex(order - 1)  # start points\n",
    "            p2 = np.roll(p1, shift=-1)  # end points\n",
    "            dp = p2 - p1  # connection vectors\n",
    "\n",
    "            new_points = np.empty(len(p1) * 4, dtype=np.complex128)\n",
    "            new_points[::4] = p1\n",
    "            new_points[1::4] = p1 + dp / 3\n",
    "            new_points[2::4] = p1 + dp * ZR\n",
    "            new_points[3::4] = p1 + dp / 3 * 2\n",
    "            return new_points\n",
    "\n",
    "    points = _koch_snowflake_complex(order)\n",
    "    x, y = points.real, points.imag\n",
    "    return x, y"
   ]
  },
  {
   "cell_type": "code",
   "execution_count": null,
   "id": "b8d5aeea",
   "metadata": {},
   "outputs": [],
   "source": [
    "x, y = koch_snowflake(order=5)\n",
    "\n",
    "plt.figure(figsize=(8, 8))\n",
    "plt.axis('equal')\n",
    "plt.fill(x, y)\n",
    "plt.show()"
   ]
  },
  {
   "cell_type": "markdown",
   "id": "2c9cf1f4",
   "metadata": {},
   "source": [
    "# Assignment 0 Complete!\n",
    "If you see the snowflake then you are done with assignment 0 and you are able to access your jupyter notebook remotely."
   ]
  },
  {
   "cell_type": "code",
   "execution_count": null,
   "id": "01e8c4f1",
   "metadata": {},
   "outputs": [],
   "source": []
  }
 ],
 "metadata": {
  "kernelspec": {
   "display_name": "Python 3 (ipykernel)",
   "language": "python",
   "name": "python3"
  },
  "language_info": {
   "codemirror_mode": {
    "name": "ipython",
    "version": 3
   },
   "file_extension": ".py",
   "mimetype": "text/x-python",
   "name": "python",
   "nbconvert_exporter": "python",
   "pygments_lexer": "ipython3",
   "version": "3.10.12"
  }
 },
 "nbformat": 4,
 "nbformat_minor": 5
}
