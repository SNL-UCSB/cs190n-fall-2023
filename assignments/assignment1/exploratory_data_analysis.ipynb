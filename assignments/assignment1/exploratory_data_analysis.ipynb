{
 "cells": [
  {
   "cell_type": "code",
   "execution_count": null,
   "id": "46511469",
   "metadata": {},
   "outputs": [],
   "source": [
    "from scapy.all import *\n",
    "import pandas as pd\n",
    "import numpy as np\n",
    "import binascii\n",
    "import seaborn as sns\n",
    "from util.pandas_util import pcap_to_df\n",
    "sns.set(color_codes=True)\n",
    "%matplotlib inline\n",
    "pd.set_option('display.max_rows', None)"
   ]
  },
  {
   "cell_type": "markdown",
   "id": "97765985",
   "metadata": {},
   "source": [
    "# Analyzing Ookla Speedtest\n",
    "\n",
    "**Objective:** In this section we will examine an [Ookla speedtest](https://www.speedtest.net/) and empirically analyze the how it works."
   ]
  },
  {
   "cell_type": "markdown",
   "id": "951135d4",
   "metadata": {},
   "source": [
    "Before we can begin analyzing packet captures, we need to process the data into a Pandas DataFrame. Using Pandas DataFrames as our data structure is useful for several reasons:  \n",
    "\n",
    "- Data Manipulation: Pandas offers a wide range of functionalities to filter, sort, group, and aggregate data.\n",
    "\n",
    "- Visualization: Pandas has built-in visualization capabilities based on Matplotlib. Although specialized network visualization tools might be better suited for graph layouts, Pandas can be useful for preliminary data exploration and plotting network statistics.\n",
    "\n",
    "- CSV & File I/O: Real-world network data often comes in the form of CSV files or other standard formats. Pandas provides powerful I/O capabilities, allowing you to easily read in data, manipulate it, and then use it for network analysis.\n",
    "\n",
    "- Scalability: Pandas DataFrames are optimized for performance. They can handle large datasets efficiently.\n",
    "\n",
    "- Flexible Data Types: A DataFrame can contain a mix of different data types (integers, strings, floats, etc.)."
   ]
  },
  {
   "cell_type": "markdown",
   "id": "403f99ba",
   "metadata": {},
   "source": [
    "### Task 0\n",
    "Import the file `speed_test.pcap` located in the directory `/mnt/cs190n/pcaps/speed_test.pcap` and copy it to your local working directory. If you have cloned the course repository in your home directory, you can import this pcap using the following command\n",
    "```\n",
    "cp /mnt/md0/cs190n/pcaps/speed_test.pcap ~/cs190n-fall-2023/assignments/assignment1/pcaps/\n",
    "```"
   ]
  },
  {
   "cell_type": "markdown",
   "id": "59fbe334",
   "metadata": {},
   "source": [
    "### Task 1\n",
    "Using the `scapy` library, report the number of TCP/UDP/total packets contained within both files `pcaps/sample_speed_test.pcap` and `pcaps/speed_test.pcap`. Report the time it takes to read each pcap using the `scapy` library. The execution time of code can be measured using `print` statements before and after the relevant code being measured using the [datetime](https://www.programiz.com/python-programming/datetime/current-time) library.\n"
   ]
  },
  {
   "cell_type": "code",
   "execution_count": null,
   "id": "cf26734c",
   "metadata": {},
   "outputs": [],
   "source": []
  },
  {
   "cell_type": "markdown",
   "id": "11973808",
   "metadata": {},
   "source": [
    "### Task 2\n",
    "Using the `pcap_to_df` function defined in `util/pandas_util.py`, measure the time it takes to convert the file `pcaps/sample_speed_test.pcap` to a Pandas DataFrame. Using this data, estimate the time it will take to convert the file `pcaps/speed_test.pcap` to a Pandas DataFrame. The DataFrame for `pcaps/speed_test.pcap` has been pre-generated for you and written to a CSV file. You can copy it to your local working directory. If you have cloned the course repository in your home directory, you can import this pcap using the following command\n",
    "```\n",
    "cp /mnt/md0/cs190n/csvs/speed_test.csv ~/cs190n-fall-2023/assignments/assignment1/pcaps/\n",
    "```\n",
    "\n",
    "For the remainder of this assignment, you should use the sample data to develop your code and build your queries, and rerun your analysis on the entire data once you have working code."
   ]
  },
  {
   "cell_type": "code",
   "execution_count": null,
   "id": "9ecbe0c9",
   "metadata": {},
   "outputs": [],
   "source": []
  },
  {
   "cell_type": "markdown",
   "id": "20e2fc6a",
   "metadata": {},
   "source": [
    "### Task 3\n",
    "The 5-tuple is commonly referred to in networking, and refers to the 5 attributes for a network flow:  \n",
    "   - Protocol  \n",
    "   - Source IP  \n",
    "   - Source Port  \n",
    "   - Destination IP  \n",
    "   - Destination Port  \n",
    "   \n",
    "Report the number of unique 5-tuples, within `pcaps/speed_test.pcap`. Remember, the port number can be either TCP or UDP port numbers depending on the protocol. Additionally, the port numbers can both be `None` if the `proto` is not equal to 6 (TCP) or 17 (UDP). You should first develop your code using the sample packet capture before executing the code on the full packet capture."
   ]
  },
  {
   "cell_type": "code",
   "execution_count": null,
   "id": "9f47b214",
   "metadata": {},
   "outputs": [],
   "source": []
  },
  {
   "cell_type": "markdown",
   "id": "32ac5146",
   "metadata": {},
   "source": [
    "### Task 4\n",
    "Next, we want to understand the most significant connections that is made during this speed test. Report the top 5 server IP(s) that send the most inbound data to the local client (192.168.0.203) and the top 5 server IP(s) that send the most outbound data from the local client (192.168.0.203) in `pcaps/speed_test.pcap`. (Hint: use the [groupby](https://pandas.pydata.org/pandas-docs/stable/reference/api/pandas.DataFrame.groupby.html) function with `dropna=False` because each row may have some values that are null)"
   ]
  },
  {
   "cell_type": "code",
   "execution_count": null,
   "id": "a1798310",
   "metadata": {},
   "outputs": [],
   "source": []
  },
  {
   "cell_type": "markdown",
   "id": "7f1e706f",
   "metadata": {},
   "source": [
    "### Task 5\n",
    "Visualize the number of inbound and outbound bytes observed every second aggregated **over all flows** between the local IP (192.168.0.203) and the server IPs you identified in the previous task. You can use [seaborn](https://www.geeksforgeeks.org/creating-a-time-series-plot-with-seaborn-and-pandas/) to graph the data directly from a Pandas DataFrame."
   ]
  },
  {
   "cell_type": "code",
   "execution_count": null,
   "id": "0c1454ef",
   "metadata": {},
   "outputs": [],
   "source": []
  },
  {
   "cell_type": "markdown",
   "id": "779f7389",
   "metadata": {},
   "source": [
    "### Task 6\n",
    "Identify the flows that are relevant to the speed test. (Hint: The number of packets sent in each flow and the protocol are useful indicators for which servers are used for the speed test)"
   ]
  },
  {
   "cell_type": "code",
   "execution_count": null,
   "id": "fe8234a9",
   "metadata": {},
   "outputs": [],
   "source": []
  },
  {
   "cell_type": "markdown",
   "id": "0f373126",
   "metadata": {},
   "source": [
    "### Task 7\n",
    "Estimate the duration of the speed test using the flows you identified in the previous task. The duration of the test would be the minimum start time observed for all the flows until the maximum end time observed for all the flows. Report the minimum time, maximum time, and duration."
   ]
  },
  {
   "cell_type": "code",
   "execution_count": null,
   "id": "4757ea87",
   "metadata": {},
   "outputs": [],
   "source": []
  },
  {
   "cell_type": "markdown",
   "id": "d03bf7ba",
   "metadata": {},
   "source": [
    "### Task 8\n",
    "For this task, you wil use a new windowing approach over all flows you identified relevant to the speed test for download and upload. Split the duration of the test into 20 windows, and aggregate the bytes over all relevant flows for each window. Report the total bytes measured over each of the 20 windows as well as the duration of each window for upload and download."
   ]
  },
  {
   "cell_type": "code",
   "execution_count": null,
   "id": "9507cf4c",
   "metadata": {},
   "outputs": [],
   "source": []
  },
  {
   "cell_type": "markdown",
   "id": "96f122fa",
   "metadata": {},
   "source": [
    "### Task 9\n",
    "Discard the windows with the 5 lowest and top 2 number of bytes. Estimate the download and upload throughput in Mbps from these 15 windows, where throughput is bytes divided by duration."
   ]
  },
  {
   "cell_type": "code",
   "execution_count": null,
   "id": "760f325d",
   "metadata": {},
   "outputs": [],
   "source": []
  }
 ],
 "metadata": {
  "kernelspec": {
   "display_name": "Python 3 (ipykernel)",
   "language": "python",
   "name": "python3"
  },
  "language_info": {
   "codemirror_mode": {
    "name": "ipython",
    "version": 3
   },
   "file_extension": ".py",
   "mimetype": "text/x-python",
   "name": "python",
   "nbconvert_exporter": "python",
   "pygments_lexer": "ipython3",
   "version": "3.10.12"
  }
 },
 "nbformat": 4,
 "nbformat_minor": 5
}
